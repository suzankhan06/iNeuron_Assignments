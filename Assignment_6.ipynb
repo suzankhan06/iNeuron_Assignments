{
 "cells": [
  {
   "cell_type": "markdown",
   "id": "3a1fce09",
   "metadata": {},
   "source": [
    "Q.1. What are keywords in python? Using the keyword library, print all the python keywords.\n",
    "\n",
    "Ans: Keywords in Python are reserved words that can not be used as a variable name, function name, or any other identifier."
   ]
  },
  {
   "cell_type": "code",
   "execution_count": 2,
   "id": "2a71d29f",
   "metadata": {},
   "outputs": [
    {
     "data": {
      "text/plain": [
       "['False',\n",
       " 'None',\n",
       " 'True',\n",
       " 'and',\n",
       " 'as',\n",
       " 'assert',\n",
       " 'async',\n",
       " 'await',\n",
       " 'break',\n",
       " 'class',\n",
       " 'continue',\n",
       " 'def',\n",
       " 'del',\n",
       " 'elif',\n",
       " 'else',\n",
       " 'except',\n",
       " 'finally',\n",
       " 'for',\n",
       " 'from',\n",
       " 'global',\n",
       " 'if',\n",
       " 'import',\n",
       " 'in',\n",
       " 'is',\n",
       " 'lambda',\n",
       " 'nonlocal',\n",
       " 'not',\n",
       " 'or',\n",
       " 'pass',\n",
       " 'raise',\n",
       " 'return',\n",
       " 'try',\n",
       " 'while',\n",
       " 'with',\n",
       " 'yield']"
      ]
     },
     "execution_count": 2,
     "metadata": {},
     "output_type": "execute_result"
    }
   ],
   "source": [
    "import keyword\n",
    "keyword.kwlist"
   ]
  },
  {
   "cell_type": "markdown",
   "id": "503e7c7e",
   "metadata": {},
   "source": [
    "Q.2. What are the rules to create variables in python?\n",
    "\n",
    "Ans: - Rules for Python variables:\n",
    "\n",
    "1- A variable name must start with a letter or the underscore character.\n",
    "\n",
    "2- A variable name cannot start with a number.\n",
    "\n",
    "3- A variable name can only contain alpha-numeric characters and underscores (A-z, 0-9, and _ )\n",
    "\n",
    "4- Variable names are case-sensitive (age, Age and AGE are three different variables)"
   ]
  },
  {
   "cell_type": "markdown",
   "id": "78ef4dec",
   "metadata": {},
   "source": [
    "Q.3. What are the standards and conventions followed for the nomenclature of variables in\n",
    "python to improve code readability and maintainability?\n",
    "\n",
    "Ans: Use grammatically correct variable names, the class name should start with an uppercase and must follow camelCase convention, if more than two words are to be used. In the same way, a function name should be joined with an underscore, and it must be lowercase"
   ]
  },
  {
   "cell_type": "markdown",
   "id": "9c143c36",
   "metadata": {},
   "source": [
    "Q.4. What will happen if a keyword is used as a variable name?\n",
    "\n",
    "Ans: It will be tough for anyone to tell whether the code is a variable or a keyword"
   ]
  },
  {
   "cell_type": "markdown",
   "id": "9ec67701",
   "metadata": {},
   "source": [
    "Q.5. For what purpose def keyword is used?\n",
    "\n",
    "Ans: It is used to define a function"
   ]
  },
  {
   "cell_type": "markdown",
   "id": "501afb79",
   "metadata": {},
   "source": [
    "Q.6. What is the operation of this special character ‘\\’?\n",
    "\n",
    "Ans: It is a special character which is also known as 'escape' character. It is used in representing certain whitespace characters:\n",
    "\n",
    "eg: \n",
    "\n",
    "\"\\t\" is a tab\n",
    "\n",
    "\"\\n\" is for newline\n",
    "\n",
    "\"\\r\" is for carriage return\n"
   ]
  },
  {
   "cell_type": "markdown",
   "id": "8d857bbb",
   "metadata": {},
   "source": [
    "Q.7. Give an example of the following conditions:\n",
    "\n",
    "(i) Homogeneous list\n",
    "\n",
    "(ii) Heterogeneous set\n",
    "\n",
    "(iii) Homogeneous tuple\n",
    "\n",
    "\n"
   ]
  },
  {
   "cell_type": "markdown",
   "id": "587b5202",
   "metadata": {},
   "source": [
    "The Python list can be either homogeneous or heterogeneous. Homogeneous means that it only contains a single type of data. \n",
    "\n",
    "A heterogeneous structure on the other hand, involves different file types being concatenated in the list or in a set."
   ]
  },
  {
   "cell_type": "code",
   "execution_count": 3,
   "id": "3da1d688",
   "metadata": {},
   "outputs": [
    {
     "data": {
      "text/plain": [
       "[1, 2, 3, 4, 5, 6]"
      ]
     },
     "execution_count": 3,
     "metadata": {},
     "output_type": "execute_result"
    }
   ],
   "source": [
    "#Example of HOMOGENEOUS LIST, \n",
    "# this list is homogenous list coz it contains elements of the same data type\n",
    "\n",
    "my_list = [1,2,3,4,5,6]\n",
    "my_list"
   ]
  },
  {
   "cell_type": "code",
   "execution_count": 4,
   "id": "81593137",
   "metadata": {},
   "outputs": [
    {
     "data": {
      "text/plain": [
       "{1, 3.14, 'apple'}"
      ]
     },
     "execution_count": 4,
     "metadata": {},
     "output_type": "execute_result"
    }
   ],
   "source": [
    "#Example of HETEROGENEOUS SET\n",
    "# coz it contains unordered collection of unique elements\n",
    "my_set = {1, 'apple', True, 3.14}\n",
    "my_set"
   ]
  },
  {
   "cell_type": "code",
   "execution_count": 5,
   "id": "32743433",
   "metadata": {},
   "outputs": [
    {
     "data": {
      "text/plain": [
       "(1, 2, 3, 4, 5)"
      ]
     },
     "execution_count": 5,
     "metadata": {},
     "output_type": "execute_result"
    }
   ],
   "source": [
    "# Example of HOMOGENEOUS TUPLE\n",
    "# this list is homogenous list coz it contains elements of the same data type\n",
    "\n",
    "my_tuple = (1, 2, 3, 4, 5)\n",
    "my_tuple"
   ]
  },
  {
   "cell_type": "markdown",
   "id": "c4e5c6e9",
   "metadata": {},
   "source": [
    "Q.8. Explain the mutable and immutable data types with proper explanation & examples.\n",
    "\n",
    "Ans: In Python, data types can be classified as either mutable or immutable. \n",
    "This classification refers to whether the values of the data type can be changed after they are created.\n",
    "\n"
   ]
  },
  {
   "cell_type": "code",
   "execution_count": 6,
   "id": "c6dfc387",
   "metadata": {},
   "outputs": [
    {
     "name": "stdout",
     "output_type": "stream",
     "text": [
      "[1, 2, 10, 4, 5]\n",
      "[1, 2, 10, 4, 5, 6]\n",
      "[1, 10, 4, 5, 6]\n",
      "[1, 10, 4, 5, 6, 7, 8, 9]\n"
     ]
    }
   ],
   "source": [
    "#Exmaple of MUTABLE LIST\n",
    "\n",
    "my_list = [1, 2, 3, 4, 5]\n",
    "\n",
    "# Modifying the list in-place\n",
    "my_list[2] = 10\n",
    "print(my_list)  # Output: [1, 2, 10, 4, 5]\n",
    "\n",
    "# Appending an element to the list\n",
    "my_list.append(6)\n",
    "print(my_list)  # Output: [1, 2, 10, 4, 5, 6]\n",
    "\n",
    "# Removing an element from the list\n",
    "my_list.remove(2)\n",
    "print(my_list)  # Output: [1, 10, 4, 5, 6]\n",
    "\n",
    "# Extending the list with another list\n",
    "my_list.extend([7, 8, 9])\n",
    "print(my_list)  # Output: [1, 10, 4, 5, 6, 7, 8, 9]"
   ]
  },
  {
   "cell_type": "markdown",
   "id": "8f638121",
   "metadata": {},
   "source": [
    "\n",
    "An immutable data type, once created, cannot be modified. Instead, any operation that appears to modify an immutable object actually creates a new object with the modified value. Examples of immutable data types in Python include integers, floats, strings, and tuples.\n"
   ]
  },
  {
   "cell_type": "code",
   "execution_count": 8,
   "id": "054cb6e7",
   "metadata": {},
   "outputs": [
    {
     "ename": "TypeError",
     "evalue": "'tuple' object does not support item assignment",
     "output_type": "error",
     "traceback": [
      "\u001b[1;31m---------------------------------------------------------------------------\u001b[0m",
      "\u001b[1;31mTypeError\u001b[0m                                 Traceback (most recent call last)",
      "Cell \u001b[1;32mIn[8], line 6\u001b[0m\n\u001b[0;32m      3\u001b[0m my_tuple \u001b[38;5;241m=\u001b[39m (\u001b[38;5;241m1\u001b[39m, \u001b[38;5;241m2\u001b[39m, \u001b[38;5;241m3\u001b[39m, \u001b[38;5;241m4\u001b[39m, \u001b[38;5;241m5\u001b[39m)\n\u001b[0;32m      5\u001b[0m \u001b[38;5;66;03m# Trying to modify the tuple\u001b[39;00m\n\u001b[1;32m----> 6\u001b[0m my_tuple[\u001b[38;5;241m2\u001b[39m] \u001b[38;5;241m=\u001b[39m \u001b[38;5;241m10\u001b[39m\n",
      "\u001b[1;31mTypeError\u001b[0m: 'tuple' object does not support item assignment"
     ]
    }
   ],
   "source": [
    "# EXMAPLE of TUPLE IMMUTABLE\n",
    "\n",
    "my_tuple = (1, 2, 3, 4, 5)\n",
    "\n",
    "# Trying to modify the tuple\n",
    "my_tuple[2] = 10  # This will raise a TypeError\n"
   ]
  },
  {
   "cell_type": "code",
   "execution_count": 9,
   "id": "7ca9f3b1",
   "metadata": {},
   "outputs": [
    {
     "ename": "AttributeError",
     "evalue": "'tuple' object has no attribute 'append'",
     "output_type": "error",
     "traceback": [
      "\u001b[1;31m---------------------------------------------------------------------------\u001b[0m",
      "\u001b[1;31mAttributeError\u001b[0m                            Traceback (most recent call last)",
      "Cell \u001b[1;32mIn[9], line 2\u001b[0m\n\u001b[0;32m      1\u001b[0m \u001b[38;5;66;03m# Trying to append an element to the tuple\u001b[39;00m\n\u001b[1;32m----> 2\u001b[0m \u001b[43mmy_tuple\u001b[49m\u001b[38;5;241;43m.\u001b[39;49m\u001b[43mappend\u001b[49m(\u001b[38;5;241m6\u001b[39m)  \u001b[38;5;66;03m# This will raise an AttributeError\u001b[39;00m\n\u001b[0;32m      4\u001b[0m \u001b[38;5;66;03m# Trying to remove an element from the tuple\u001b[39;00m\n\u001b[0;32m      5\u001b[0m my_tuple\u001b[38;5;241m.\u001b[39mremove(\u001b[38;5;241m2\u001b[39m)\n",
      "\u001b[1;31mAttributeError\u001b[0m: 'tuple' object has no attribute 'append'"
     ]
    }
   ],
   "source": [
    "# Trying to append an element to the tuple\n",
    "my_tuple.append(6)  # This will raise an AttributeError\n"
   ]
  },
  {
   "cell_type": "code",
   "execution_count": 10,
   "id": "823162fd",
   "metadata": {},
   "outputs": [
    {
     "ename": "AttributeError",
     "evalue": "'tuple' object has no attribute 'remove'",
     "output_type": "error",
     "traceback": [
      "\u001b[1;31m---------------------------------------------------------------------------\u001b[0m",
      "\u001b[1;31mAttributeError\u001b[0m                            Traceback (most recent call last)",
      "Cell \u001b[1;32mIn[10], line 2\u001b[0m\n\u001b[0;32m      1\u001b[0m \u001b[38;5;66;03m# Trying to remove an element from the tuple\u001b[39;00m\n\u001b[1;32m----> 2\u001b[0m \u001b[43mmy_tuple\u001b[49m\u001b[38;5;241;43m.\u001b[39;49m\u001b[43mremove\u001b[49m(\u001b[38;5;241m2\u001b[39m)\n",
      "\u001b[1;31mAttributeError\u001b[0m: 'tuple' object has no attribute 'remove'"
     ]
    }
   ],
   "source": [
    "\n",
    "# Trying to remove an element from the tuple\n",
    "my_tuple.remove(2)  # This will raise an AttributeError"
   ]
  },
  {
   "cell_type": "markdown",
   "id": "629a41c0",
   "metadata": {},
   "source": [
    "Q.9. Write a code to create the given structure using only for loop.\n",
    "    *\n",
    "   ***\n",
    "  *****\n",
    " *******\n",
    "*********"
   ]
  },
  {
   "cell_type": "code",
   "execution_count": 19,
   "id": "f2868808",
   "metadata": {},
   "outputs": [
    {
     "name": "stdout",
     "output_type": "stream",
     "text": [
      "    *\n",
      "   ***\n",
      "  *****\n",
      " *******\n",
      "*********\n"
     ]
    }
   ],
   "source": [
    "num_rows = 5\n",
    "\n",
    "for i in range(num_rows):\n",
    "    for j in range(num_rows - i - 1):\n",
    "        print(\" \", end=\"\")\n",
    "    for j in range(2 * i + 1):\n",
    "        print(\"*\", end=\"\")\n",
    "    print()"
   ]
  },
  {
   "cell_type": "markdown",
   "id": "40606a09",
   "metadata": {},
   "source": [
    "Q.10. Write a code to create the given structure using while loop.\n",
    "|||||||||\n",
    " |||||||\n",
    "  |||||\n",
    "   |||\n",
    "    |"
   ]
  },
  {
   "cell_type": "code",
   "execution_count": 22,
   "id": "cbe834af",
   "metadata": {},
   "outputs": [
    {
     "name": "stdout",
     "output_type": "stream",
     "text": [
      "|||||\n",
      " ||||\n",
      "  |||\n",
      "   ||\n",
      "    |\n"
     ]
    }
   ],
   "source": [
    "num_rows = 5\n",
    "num_spaces = 0\n",
    "\n",
    "while num_rows > 0:\n",
    "    count = 0\n",
    "    while count < num_spaces:\n",
    "        print(\" \", end=\"\")\n",
    "        count += 1\n",
    "\n",
    "    count = 0\n",
    "    while count < num_rows:\n",
    "        print(\"|\", end=\"\")\n",
    "        count += 1\n",
    "\n",
    "    print()\n",
    "    num_rows -= 1\n",
    "    num_spaces += 1"
   ]
  },
  {
   "cell_type": "code",
   "execution_count": 23,
   "id": "ec750716",
   "metadata": {},
   "outputs": [
    {
     "name": "stdout",
     "output_type": "stream",
     "text": [
      "|||||\n",
      "||||\n",
      "|||\n",
      "||\n",
      "|\n",
      " ||\n",
      "  |||\n",
      "   ||||\n",
      "    |||||\n"
     ]
    }
   ],
   "source": [
    "num_rows = 5\n",
    "\n",
    "# Upside-down base\n",
    "row_length = num_rows\n",
    "\n",
    "while row_length > 0:\n",
    "    count = 0\n",
    "    while count < row_length:\n",
    "        print(\"|\", end=\"\")\n",
    "        count += 1\n",
    "    print()\n",
    "    row_length -= 1\n",
    "\n",
    "# Cone sides\n",
    "row_length = 2\n",
    "num_spaces = 1\n",
    "\n",
    "while row_length <= num_rows:\n",
    "    count = 0\n",
    "    while count < num_spaces:\n",
    "        print(\" \", end=\"\")\n",
    "        count += 1\n",
    "\n",
    "    count = 0\n",
    "    while count < row_length:\n",
    "        print(\"|\", end=\"\")\n",
    "        count += 1\n",
    "\n",
    "    print()\n",
    "    row_length += 1\n",
    "    num_spaces += 1"
   ]
  },
  {
   "cell_type": "code",
   "execution_count": 24,
   "id": "67d87292",
   "metadata": {},
   "outputs": [
    {
     "name": "stdout",
     "output_type": "stream",
     "text": [
      "|||||\n",
      " ||||\n",
      "  |||\n",
      "   ||\n",
      "    |\n"
     ]
    }
   ],
   "source": [
    "num_rows = 5\n",
    "row_length = num_rows\n",
    "\n",
    "while row_length > 0:\n",
    "    num_spaces = num_rows - row_length\n",
    "\n",
    "    count = 0\n",
    "    while count < num_spaces:\n",
    "        print(\" \", end=\"\")\n",
    "        count += 1\n",
    "\n",
    "    count = 0\n",
    "    while count < row_length:\n",
    "        print(\"|\", end=\"\")\n",
    "        count += 1\n",
    "\n",
    "    print()\n",
    "    row_length -= 1"
   ]
  },
  {
   "cell_type": "code",
   "execution_count": 25,
   "id": "2a86d010",
   "metadata": {},
   "outputs": [
    {
     "name": "stdout",
     "output_type": "stream",
     "text": [
      "|||||||||\n",
      " |||||||\n",
      "  |||||\n",
      "   |||\n",
      "    |\n"
     ]
    }
   ],
   "source": [
    "# here is the final output as asked in the question, i tried all the way to get it proper\n",
    "\n",
    "\n",
    "num_lines = 5\n",
    "row_length = 9\n",
    "num_spaces = 0\n",
    "\n",
    "while num_lines > 0:\n",
    "    count = 0\n",
    "    while count < num_spaces:\n",
    "        print(\" \", end=\"\")\n",
    "        count += 1\n",
    "\n",
    "    count = 0\n",
    "    while count < row_length:\n",
    "        print(\"|\", end=\"\")\n",
    "        count += 1\n",
    "\n",
    "    print()\n",
    "    row_length -= 2\n",
    "    num_spaces += 1\n",
    "    num_lines -= 1"
   ]
  },
  {
   "cell_type": "code",
   "execution_count": null,
   "id": "808b1166",
   "metadata": {},
   "outputs": [],
   "source": []
  }
 ],
 "metadata": {
  "kernelspec": {
   "display_name": "Python 3 (ipykernel)",
   "language": "python",
   "name": "python3"
  },
  "language_info": {
   "codemirror_mode": {
    "name": "ipython",
    "version": 3
   },
   "file_extension": ".py",
   "mimetype": "text/x-python",
   "name": "python",
   "nbconvert_exporter": "python",
   "pygments_lexer": "ipython3",
   "version": "3.10.9"
  }
 },
 "nbformat": 4,
 "nbformat_minor": 5
}
