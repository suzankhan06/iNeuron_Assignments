{
 "cells": [
  {
   "cell_type": "markdown",
   "id": "5dc33d39",
   "metadata": {},
   "source": [
    "Q1. In Python, what is the difference between a built-in function and a user-defined function? Provide an example of each.\n",
    "\n",
    "Ans: Built-in functions are pre-defined functions provided by Python.\n",
    "\n",
    "User-defined functions are created by the users themselves to perform specific tasks."
   ]
  },
  {
   "cell_type": "code",
   "execution_count": 1,
   "id": "1e050256",
   "metadata": {},
   "outputs": [
    {
     "name": "stdout",
     "output_type": "stream",
     "text": [
      "13\n"
     ]
    }
   ],
   "source": [
    "# Example of Built-in Function\n",
    "\n",
    "my_string = \"Hello, World!\"\n",
    "length = len(my_string)\n",
    "print(length)  # here, len() is the built-in function which will giveus the length of our string"
   ]
  },
  {
   "cell_type": "code",
   "execution_count": 2,
   "id": "f6d749de",
   "metadata": {},
   "outputs": [
    {
     "name": "stdout",
     "output_type": "stream",
     "text": [
      "15\n"
     ]
    }
   ],
   "source": [
    "# Example of user-defined function\n",
    "\n",
    "def multiply(x, y):\n",
    "    return x * y\n",
    "\n",
    "result = multiply(5, 3)\n",
    "print(result)  # we defined here to multiple the 2 nos. so it gives 15"
   ]
  },
  {
   "cell_type": "markdown",
   "id": "ef6549c9",
   "metadata": {},
   "source": [
    "Q2. How can you pass arguments to a function in Python? Explain the difference between positional arguments and keyword arguments.\n",
    "\n",
    "Ans: Positional arguments are the most basic way to pass arguments to a function. When you call a function and provide values without specifying the parameter names, the arguments are matched to the function parameters based on their positions.\n",
    "\n",
    "Keyword arguments allow you to specify arguments using the parameter names explicitly. This way, the order of the arguments doesn't matter"
   ]
  },
  {
   "cell_type": "code",
   "execution_count": 6,
   "id": "0f471ab2",
   "metadata": {},
   "outputs": [
    {
     "name": "stdout",
     "output_type": "stream",
     "text": [
      "Hello Shazid! You are 32 years old.Have great day bro!!!!\n"
     ]
    }
   ],
   "source": [
    "#Example of positional argument \n",
    "\n",
    "def greet(name, age):\n",
    "    print(f\"Hello {name}! You are {age} years old.Have great day bro!!!!\")\n",
    "\n",
    "greet(\"Shazid\", 32)"
   ]
  },
  {
   "cell_type": "code",
   "execution_count": 8,
   "id": "573cd147",
   "metadata": {},
   "outputs": [
    {
     "name": "stdout",
     "output_type": "stream",
     "text": [
      "Hello Shazid khan! You are 32 years old. Have a great day bro!!!\n"
     ]
    }
   ],
   "source": [
    "# Exmaple of keyword argument\n",
    "\n",
    "def person(name, age):\n",
    "    print(f\"Hello {name}! You are {age} years old. Have a great day bro!!!\")\n",
    "\n",
    "person(age=32, name=\"Shazid khan\")"
   ]
  },
  {
   "cell_type": "markdown",
   "id": "4eebda1d",
   "metadata": {},
   "source": [
    "Q3. What is the purpose of the return statement in a function? Can a function have multiple return statements? Explain with an example.\n",
    "\n",
    "Ans: The return statement in a function serves the purpose of specifying the value that the function should return when it is called. When a return statement is executed in a function, it immediately terminates the function's execution and returns the specified value to the user.\n",
    "\n",
    "A function can have multiple return function but only one return statement is executed during the functions execution\n",
    "\n"
   ]
  },
  {
   "cell_type": "code",
   "execution_count": 9,
   "id": "0fa83f88",
   "metadata": {},
   "outputs": [
    {
     "name": "stdout",
     "output_type": "stream",
     "text": [
      "B\n"
     ]
    }
   ],
   "source": [
    "#For Exmple\n",
    "\n",
    "def get_grade(score):\n",
    "    if score >= 90:\n",
    "        return \"A\"\n",
    "    elif score >= 80:\n",
    "        return \"B\"\n",
    "    elif score >= 70:\n",
    "        return \"C\"\n",
    "    else:\n",
    "        return \"F\"\n",
    "\n",
    "result = get_grade(85)\n",
    "print(result)  # here, only one return statement is executed, thats B\n",
    "\n"
   ]
  },
  {
   "cell_type": "markdown",
   "id": "90a942b5",
   "metadata": {},
   "source": [
    "Q4. What are lambda functions in Python? How are they different from regular functions? Provide an example where a lambda function can be useful.\n",
    "\n",
    "Ans: They are small and one line function. they are defined by using lamda keyword and can take any number if arguments but can only have a single expression. Syntax: lambda arguments:expression\n",
    "\n",
    "\n",
    "They are different from regular function in some ways:\n",
    "- lambda function dnt have name\n",
    "- lambda function can only consist of s single expression\n",
    "- lambda function have compact syntax compared to regular functions"
   ]
  },
  {
   "cell_type": "code",
   "execution_count": 10,
   "id": "e5d722c7",
   "metadata": {},
   "outputs": [
    {
     "name": "stdout",
     "output_type": "stream",
     "text": [
      "[1, 4, 9, 16, 25]\n"
     ]
    }
   ],
   "source": [
    "# Example\n",
    "\n",
    "# Using lambda function with map()\n",
    "numbers = [1, 2, 3, 4, 5]\n",
    "squared_numbers = map(lambda x: x ** 2, numbers)\n",
    "print(list(squared_numbers))  # here, it will return the square of each element provided in the numbers."
   ]
  },
  {
   "cell_type": "markdown",
   "id": "a1159390",
   "metadata": {},
   "source": [
    "Q5. How does the concept of \"scope\" apply to functions in Python? Explain the difference between local scope and global scope.\n",
    "\n",
    "Ans: in python, scope referes to the visibility and accessibility of varaibles with in different parts of the code.\n",
    "\n",
    "Local scope refers to the scope within a specific function.\n",
    "\n",
    "Global scope refers to the scope outside of any function or block of code."
   ]
  },
  {
   "cell_type": "code",
   "execution_count": 17,
   "id": "9edfb484",
   "metadata": {},
   "outputs": [
    {
     "name": "stdout",
     "output_type": "stream",
     "text": [
      "10\n"
     ]
    }
   ],
   "source": [
    "#Exmple of local scope\n",
    "def my_function():\n",
    "    x = 10  # local variable as it is defined inside the function\n",
    "    print(x)\n",
    "\n",
    "my_function()  "
   ]
  },
  {
   "cell_type": "code",
   "execution_count": 20,
   "id": "f5171721",
   "metadata": {},
   "outputs": [
    {
     "name": "stdout",
     "output_type": "stream",
     "text": [
      "10\n",
      "10\n"
     ]
    }
   ],
   "source": [
    "#exmpe of global scope\n",
    "\n",
    "x = 10  # global variable as it is defined outside the function\n",
    "\n",
    "def my_function():\n",
    "    print(x)\n",
    "\n",
    "my_function() \n",
    "print(x)      "
   ]
  },
  {
   "cell_type": "markdown",
   "id": "3ab510d5",
   "metadata": {},
   "source": [
    "Q6. How can you use the \"return\" statement in a Python function to return multiple values?\n",
    "\n",
    "Ans: the return statement in a function can be used to return multiple values by returning them as a tuple, list, or any other iterable object."
   ]
  },
  {
   "cell_type": "code",
   "execution_count": 21,
   "id": "7a1b1822",
   "metadata": {},
   "outputs": [
    {
     "name": "stdout",
     "output_type": "stream",
     "text": [
      "(10, 20, 30)\n"
     ]
    }
   ],
   "source": [
    "#for exmple\n",
    "\n",
    "def get_values():\n",
    "    a = 10\n",
    "    b = 20\n",
    "    c = 30\n",
    "    return a, b, c\n",
    "\n",
    "result = get_values()\n",
    "print(result)  "
   ]
  },
  {
   "cell_type": "markdown",
   "id": "b96c36ad",
   "metadata": {},
   "source": [
    "Q7. What is the difference between the \"pass by value\" and \"pass by reference\" concepts when it comes to function arguments in Python?\n",
    "\n",
    "Ans: when you pass an argument to a function, you are passing the reference to the object, not the object itself. The behavior of the function depends on whether the object is mutable or immutable."
   ]
  },
  {
   "cell_type": "code",
   "execution_count": 29,
   "id": "e5422131",
   "metadata": {},
   "outputs": [
    {
     "name": "stdout",
     "output_type": "stream",
     "text": [
      "15\n",
      "5\n"
     ]
    }
   ],
   "source": [
    "# foe exmple in Pass by value for immutable objects:\n",
    "\n",
    "def values(num):\n",
    "    num += 10\n",
    "    print(num)\n",
    "    \n",
    "\n",
    "    \n",
    "x = 5\n",
    "values(x)  \n",
    "print(x)        "
   ]
  },
  {
   "cell_type": "code",
   "execution_count": 32,
   "id": "70f3b89b",
   "metadata": {},
   "outputs": [
    {
     "name": "stdout",
     "output_type": "stream",
     "text": [
      "[1, 2, 3, 4]\n",
      "[1, 2, 3, 4]\n"
     ]
    }
   ],
   "source": [
    "# for exmple in Pass by reference for mutable objects:\n",
    "\n",
    "def list(lst):\n",
    "    lst.append(4)\n",
    "    print(lst)\n",
    "\n",
    "my_list = [1, 2, 3]\n",
    "list(my_list)  \n",
    "print(my_list)     "
   ]
  },
  {
   "cell_type": "markdown",
   "id": "598c58cb",
   "metadata": {},
   "source": [
    "Q8. Create a function that can intake integer or decimal value and do following operations:\n",
    "\n",
    "a. Logarithmic function (log x)\n",
    "\n",
    "b. Exponential function (exp(x))\n",
    "\n",
    "c. Power function with base 2 (2x)\n",
    "\n",
    "d. Square root\n",
    "\n",
    "Ans:"
   ]
  },
  {
   "cell_type": "code",
   "execution_count": 35,
   "id": "0d901252",
   "metadata": {},
   "outputs": [
    {
     "name": "stdout",
     "output_type": "stream",
     "text": [
      "(1.9459101490553132, 1096.6331584284585, 128.0, 2.6457513110645907)\n"
     ]
    }
   ],
   "source": [
    "import math\n",
    "\n",
    "def calculate(x):\n",
    "    # Logarithmic function (log x)\n",
    "    log_result = math.log(x)\n",
    "    \n",
    "    # Exponential function (exp(x))\n",
    "    exp_result = math.exp(x)\n",
    "    \n",
    "    # Power function with base 2 (2^x)\n",
    "    power_result = math.pow(2, x)\n",
    "    \n",
    "    # Square root\n",
    "    sqrt_result = math.sqrt(x)\n",
    "    \n",
    "    return log_result, exp_result, power_result, sqrt_result\n",
    "\n",
    "result = calculate(7)\n",
    "print(result)"
   ]
  },
  {
   "cell_type": "markdown",
   "id": "42cb9e31",
   "metadata": {},
   "source": [
    "Q9. Create a function that takes a full name as an argument and returns first name and last name."
   ]
  },
  {
   "cell_type": "code",
   "execution_count": 37,
   "id": "486428ba",
   "metadata": {},
   "outputs": [
    {
     "name": "stdout",
     "output_type": "stream",
     "text": [
      "('Shazid', 'Khan')\n"
     ]
    }
   ],
   "source": [
    "def Person(full_name):\n",
    "    # Split the full name into individual names\n",
    "    names = full_name.split()\n",
    "\n",
    "    # Extract the first name and last name\n",
    "    first_name = names[0]\n",
    "    last_name = names[-1]\n",
    "\n",
    "    return first_name, last_name\n",
    "\n",
    "result=Person(\"Shazid Khan\")\n",
    "print(result)"
   ]
  },
  {
   "cell_type": "code",
   "execution_count": null,
   "id": "07b8a58b",
   "metadata": {},
   "outputs": [],
   "source": []
  }
 ],
 "metadata": {
  "kernelspec": {
   "display_name": "Python 3 (ipykernel)",
   "language": "python",
   "name": "python3"
  },
  "language_info": {
   "codemirror_mode": {
    "name": "ipython",
    "version": 3
   },
   "file_extension": ".py",
   "mimetype": "text/x-python",
   "name": "python",
   "nbconvert_exporter": "python",
   "pygments_lexer": "ipython3",
   "version": "3.10.9"
  }
 },
 "nbformat": 4,
 "nbformat_minor": 5
}
