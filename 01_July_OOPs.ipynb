{
 "cells": [
  {
   "cell_type": "markdown",
   "id": "1c81652a",
   "metadata": {},
   "source": [
    "Q1. What is the primary goal of Object-Oriented Programming (OOP)?\n",
    "\n",
    "Ans: to provide a way to structure and organize code by representing real-world entities as objects. \n",
    "\n",
    "OOP aims to model software systems based on the concept of objects, which are instances of classes or blueprints."
   ]
  },
  {
   "cell_type": "markdown",
   "id": "24d4876d",
   "metadata": {},
   "source": [
    "Q2. What is an object in Python?\n",
    "\n",
    "Ans: an object is an instance of a class. It is a fundamental concept of Object-Oriented Programming (OOP) and represents a specific entity or concept within a program"
   ]
  },
  {
   "cell_type": "markdown",
   "id": "91131f02",
   "metadata": {},
   "source": [
    "Q3. What is a class in Python?\n",
    "\n",
    "Ans: a class is a blueprint or a template that define the structure and behaviour of objects. it works as a blueprint for creating instances ofobjects"
   ]
  },
  {
   "cell_type": "markdown",
   "id": "0673274b",
   "metadata": {},
   "source": [
    "Q4. What are attributes and methods in a class?\n",
    "\n",
    "Ans: Attributes are variables that hold data associated with the object. They can be of any data type, such as integers, strings, lists, or even other objects. Each object created from a class has its own set of attribute values.\n",
    "\n",
    "A class also defines methods, which are functions associated with the class. Methods define the behavior of the object and can perform operations on the object's attributes"
   ]
  },
  {
   "cell_type": "code",
   "execution_count": 8,
   "id": "650eafde",
   "metadata": {},
   "outputs": [
    {
     "name": "stdout",
     "output_type": "stream",
     "text": [
      "3\n",
      "5\n",
      "7\n",
      "5\n",
      "15\n",
      "24\n"
     ]
    }
   ],
   "source": [
    "#For exmpl\n",
    "\n",
    "# Define a class named \"Rectangle\"\n",
    "class Rectangle:\n",
    "    def __init__(self, width, height):\n",
    "        self.width = width\n",
    "        self.height = height\n",
    "\n",
    "    def area(self):\n",
    "        return self.width * self.height\n",
    "\n",
    "    def perimeter(self):\n",
    "        return 2 * (self.width + self.height)\n",
    "\n",
    "# Create objects of the Rectangle class\n",
    "rect1 = Rectangle(3, 5)\n",
    "rect2 = Rectangle(5, 7)\n",
    "\n",
    "# Access object attributes\n",
    "print(rect1.width)  \n",
    "print(rect1.height)\n",
    "print(rect2.height)  \n",
    "print(rect2.width)\n",
    "\n",
    "\n",
    "# Call object methods\n",
    "print(rect1.area())  \n",
    "print(rect2.perimeter())  "
   ]
  },
  {
   "cell_type": "markdown",
   "id": "0ded4b0e",
   "metadata": {},
   "source": [
    "Q5. What is the difference between class variables and instance variables in Python?\n",
    "\n",
    "Ans: Class variables are variables that are defined within the class but outside any methods. They are shared among all instances of the class.\n",
    "\n",
    "Instance variables are variables that are defined within a class's methods or the class's constructor (__init__() method). Each instance of the class has its own copy of instance variables, and their values can vary across different instances."
   ]
  },
  {
   "cell_type": "markdown",
   "id": "3a4db82d",
   "metadata": {},
   "source": [
    "Q6. What is the purpose of the self parameter in Python class methods?\n",
    "\n",
    "Ans: self parameter is a convention used to refer to the instance (object) of a class within its methods. It acts as a reference to the instance itself and allows the methods to access and manipulate the instance's attributes and invoke other methods.\n",
    "\n",
    "It is the first parameter in most class methods\n",
    "\n"
   ]
  },
  {
   "cell_type": "markdown",
   "id": "e5fa0147",
   "metadata": {},
   "source": [
    "Q7. For a library management system, you have to design the \"Book\" class with OOP principles in mind. The “Book” class will have following attributes:\n",
    "\n",
    "a. title: Represents the title of the book.\n",
    "\n",
    "b. author: Represents the author(s) of the book.\n",
    "\n",
    "c. isbn: Represents the ISBN (International Standard Book Number) of the book.\n",
    "\n",
    "d. publication_year: Represents the year of publication of the book.\n",
    "\n",
    "e. available_copies: Represents the number of copies available for checkout.\n",
    "\n",
    "The class will also include the following methods:\n",
    "\n",
    "a. check_out(self): Decrements the available copies by one if there are copies available for checkout.\n",
    "\n",
    "b. return_book(self): Increments the available copies by one when a book is\n",
    "returned.\n",
    "\n",
    "c. display_book_info(self): Displays the information about the book, including its attributes and the number of available copies.\n"
   ]
  },
  {
   "cell_type": "code",
   "execution_count": 16,
   "id": "77d5ecc0",
   "metadata": {},
   "outputs": [],
   "source": [
    "class Book:\n",
    "    def __init__(self, title, author, isbn, publication_year, available_copies):\n",
    "        self.title = title\n",
    "        self.author = author\n",
    "        self.isbn = isbn\n",
    "        self.publication_year = publication_year\n",
    "        self.available_copies = available_copies\n",
    "\n",
    "    def display_info(self):\n",
    "        print(\"Book Information:\")\n",
    "        print(f\"Title of the book is : {self.title}\")\n",
    "        print(f\"Author(s) of the book is : {self.author}\")\n",
    "        print(f\"ISBN for the book is : {self.isbn}\")\n",
    "        print(f\"Publication Year is : {self.publication_year}\")\n",
    "        print(f\"Available Copies are : {self.available_copies}\")\n",
    "\n",
    "    def checkout(self):\n",
    "        if self.available_copies > 0:\n",
    "            self.available_copies -= 1\n",
    "            print(\"Book checked out successfully.\")\n",
    "        else:\n",
    "            print(\"Sorry, no copies of this book are currently available.\")\n",
    "\n",
    "    def return_book(self):\n",
    "        self.available_copies += 1\n",
    "        print(\"Book returned successfully.\")\n"
   ]
  },
  {
   "cell_type": "code",
   "execution_count": 34,
   "id": "ca7a90bd",
   "metadata": {},
   "outputs": [
    {
     "name": "stdout",
     "output_type": "stream",
     "text": [
      "Book Information:\n",
      "Title of the book is : Harry Potter\n",
      "Author(s) of the book is : J. K. Rawling\n",
      "ISBN for the book is : 19971998199920002003\n",
      "Publication Year is : 1997\n",
      "Available Copies are : 3\n",
      "Book checked out successfully.\n",
      "Book checked out successfully.\n",
      "Book checked out successfully.\n",
      "Sorry, no copies of this book are currently available.\n",
      "Book returned successfully.\n",
      "Book checked out successfully.\n",
      "Book Information:\n",
      "Title of the book is : Harry Potter\n",
      "Author(s) of the book is : J. K. Rawling\n",
      "ISBN for the book is : 19971998199920002003\n",
      "Publication Year is : 1997\n",
      "Available Copies are : 0\n"
     ]
    }
   ],
   "source": [
    "\n",
    "# Example usage:\n",
    "book1 = Book(\"Harry Potter\", \"J. K. Rawling\", \"19971998199920002003\", 1997, 3)\n",
    "book1.display_info()  # Display book information\n",
    "\n",
    "book1.checkout()  # Checkout a copy of the book\n",
    "book1.checkout()  # Checkout another copy of the book\n",
    "book1.checkout()  # Checkout another copy of the book\n",
    "book1.checkout()  # Attempt to checkout when no copies are available\n",
    "\n",
    "book1.return_book()  # Return a copy of the book\n",
    "book1.checkout()  # Checkout a copy of the book after returning one\n",
    "\n",
    "book1.display_info()  # Display updated book information"
   ]
  },
  {
   "cell_type": "markdown",
   "id": "a2a11cdc",
   "metadata": {},
   "source": [
    "Q8. For a ticket booking system, you have to design the \"Ticket\" class with OOP principles in mind. The “Ticket” class should have the following attributes:\n",
    "\n",
    "a. ticket_id: Represents the unique identifier for the ticket.\n",
    "\n",
    "b. event_name: Represents the name of the event.\n",
    "\n",
    "c. event_date: Represents the date of the event.\n",
    "\n",
    "d. venue: Represents the venue of the event.\n",
    "\n",
    "e. seat_number: Represents the seat number associated with the ticket.\n",
    "\n",
    "f. price: Represents the price of the ticket.\n",
    "\n",
    "g. is_reserved: Represents the reservation status of the ticket.\n",
    "\n",
    "The class also includes the following methods:\n",
    "\n",
    "a. reserve_ticket(self): Marks the ticket as reserved if it is not already reserved.\n",
    "\n",
    "b. cancel_reservation(self): Cancels the reservation of the ticket if it is already reserved.\n",
    "\n",
    "c. display_ticket_info(self): Displays the information about the ticket, including its attributes and reservation status."
   ]
  },
  {
   "cell_type": "code",
   "execution_count": 57,
   "id": "89ce2443",
   "metadata": {},
   "outputs": [],
   "source": [
    "class Ticket:\n",
    "    def __init__(self, ticket_id, event_name, event_date, venue, seat_number, price):\n",
    "        self.ticket_id = ticket_id\n",
    "        self.event_name = event_name\n",
    "        self.event_date = event_date\n",
    "        self.venue = venue\n",
    "        self.seat_number = seat_number\n",
    "        self.price = price\n",
    "        self.is_reserved = False\n",
    "\n",
    "    def reserve_ticket(self):\n",
    "        if not self.is_reserved:\n",
    "            self.is_reserved = True\n",
    "            print(\"Ticket reserved successfully.\")\n",
    "        else:\n",
    "            print(\"Ticket is already reserved.\")\n",
    "\n",
    "    def cancel_reservation(self):\n",
    "        if self.is_reserved:\n",
    "            self.is_reserved = False\n",
    "            print(\"Reservation canceled successfully.\")\n",
    "        else:\n",
    "            print(\"Ticket is not reserved.\")\n",
    "\n",
    "    def display_ticket_info(self):\n",
    "        print(\"Ticket Information:\")\n",
    "        print(f\"Ticket ID: {self.ticket_id}\")\n",
    "        print(f\"Event Name: {self.event_name}\")\n",
    "        print(f\"Event Date: {self.event_date}\")\n",
    "        print(f\"Venue: {self.venue}\")\n",
    "        print(f\"Seat Number: {self.seat_number}\")\n",
    "        print(f\"Price: {self.price}\")\n",
    "        print(f\"Reservation Status: {'Reserved' if self.is_reserved else 'Not Reserved'}\")\n"
   ]
  },
  {
   "cell_type": "code",
   "execution_count": 58,
   "id": "189a3e80",
   "metadata": {},
   "outputs": [
    {
     "name": "stdout",
     "output_type": "stream",
     "text": [
      "Ticket Information:\n",
      "Ticket ID: SUR1632\n",
      "Event Name: Siddeshwar Express\n",
      "Event Date: 2023-08-05\n",
      "Venue: SUR TO MUM\n",
      "Seat Number: A-32\n",
      "Price: 399\n",
      "Reservation Status: Not Reserved\n",
      "Ticket reserved successfully.\n",
      "Ticket is already reserved.\n",
      "Reservation canceled successfully.\n",
      "Ticket is not reserved.\n",
      "Ticket Information:\n",
      "Ticket ID: SUR1632\n",
      "Event Name: Siddeshwar Express\n",
      "Event Date: 2023-08-05\n",
      "Venue: SUR TO MUM\n",
      "Seat Number: A-32\n",
      "Price: 399\n",
      "Reservation Status: Not Reserved\n"
     ]
    }
   ],
   "source": [
    "# Example \n",
    "\n",
    "ticket1 = Ticket(\"SUR1632\", \"Siddeshwar Express\", \"2023-08-05\", \"SUR TO MUM\", \"A-32\", 399)\n",
    "ticket1.display_ticket_info()  # Display ticket information\n",
    "\n",
    "ticket1.reserve_ticket()  # Reserve the ticket\n",
    "ticket1.reserve_ticket()  # Attempt to reserve the ticket again\n",
    "\n",
    "ticket1.cancel_reservation()  # Cancel the reservation\n",
    "ticket1.cancel_reservation()  # Attempt to cancel the reservation again\n",
    "\n",
    "ticket1.display_ticket_info()  # Display updated ticket information"
   ]
  },
  {
   "cell_type": "markdown",
   "id": "f2669647",
   "metadata": {},
   "source": [
    "Q9. You are creating a shopping cart for an e-commerce website. Using OOP to model the \"ShoppingCart\" functionality the class should contain following attributes and methods:\n",
    "a. items: Represents the list of items in the shopping cart.\n",
    "\n",
    "The class also includes the following methods:\n",
    "\n",
    "a. add_item(self, item): Adds an item to the shopping cart by appending it to the list of items.\n",
    "\n",
    "b. remove_item(self, item): Removes an item from the shopping cart if it exists in the list.\n",
    "\n",
    "c. view_cart(self): Displays the items currently present in the shopping cart.\n",
    "\n",
    "d. clear_cart(self): Clears all items from the shopping cart by reassigning an empty list to the items attribute.\n",
    "\n"
   ]
  },
  {
   "cell_type": "code",
   "execution_count": 68,
   "id": "3236a4be",
   "metadata": {},
   "outputs": [],
   "source": [
    "class ShoppingCart:\n",
    "    def __init__(self):\n",
    "        self.items = []\n",
    "\n",
    "    def add_item(self, item):\n",
    "        self.items.append(item)\n",
    "        print(f\"Item '{item}' is added to the shopping cart.\")\n",
    "\n",
    "    def remove_item(self, item):\n",
    "        if item in self.items:\n",
    "            self.items.remove(item)\n",
    "            print(f\"Item '{item}' is removed from the shopping cart.\")\n",
    "        else:\n",
    "            print(f\"Item '{item}' not found in the shopping cart.\")\n",
    "\n",
    "    def view_cart(self):\n",
    "        if self.items:\n",
    "            print(\"Items in the shopping cart:\")\n",
    "            for item in self.items:\n",
    "                print(item)\n",
    "        else:\n",
    "            print(\"The shopping cart is empty.\")\n",
    "\n",
    "    def clear_cart(self):\n",
    "        self.items = []\n",
    "        print(\"Shopping cart cleared.\")\n",
    "\n"
   ]
  },
  {
   "cell_type": "code",
   "execution_count": 75,
   "id": "abba8850",
   "metadata": {},
   "outputs": [
    {
     "name": "stdout",
     "output_type": "stream",
     "text": [
      "The shopping cart is empty.\n",
      "Item 'Iphone' is added to the shopping cart.\n",
      "Item 'Airpods' is added to the shopping cart.\n",
      "Item 'Macbook' is added to the shopping cart.\n",
      "Item 'Ipads' is added to the shopping cart.\n",
      "Items in the shopping cart:\n",
      "Iphone\n",
      "Airpods\n",
      "Macbook\n",
      "Ipads\n",
      "Item 'Iphone' is removed from the shopping cart.\n",
      "Item 'Airpods' is removed from the shopping cart.\n",
      "Item 'Macbook' is removed from the shopping cart.\n",
      "Item 'Ipads' is removed from the shopping cart.\n",
      "The shopping cart is empty.\n",
      "Shopping cart cleared.\n",
      "The shopping cart is empty.\n"
     ]
    }
   ],
   "source": [
    "# Example \n",
    "\n",
    "\n",
    "cart = ShoppingCart()\n",
    "\n",
    "cart.view_cart()  # Display the empty shopping cart\n",
    "\n",
    "cart.add_item(\"Iphone\")  # Add an item to the shopping cart\n",
    "cart.add_item(\"Airpods\")  # Add another item to the shopping cart\n",
    "cart.add_item(\"Macbook\")  \n",
    "cart.add_item(\"Ipads\")  \n",
    "\n",
    "cart.view_cart()  # Display the items in the shopping cart\n",
    "\n",
    "cart.remove_item(\"Iphone\")  # Remove an item from the shopping cart\n",
    "cart.remove_item(\"Airpods\")  # Attempt to remove an item not in the shopping cart\n",
    "cart.remove_item(\"Macbook\") \n",
    "cart.remove_item(\"Ipads\") \n",
    "\n",
    "cart.view_cart()  # Display the updated items in the shopping cart\n",
    "\n",
    "cart.clear_cart()  # Clear the shopping cart\n",
    "\n",
    "cart.view_cart()  # Display the empty shopping cart"
   ]
  },
  {
   "cell_type": "markdown",
   "id": "58509263",
   "metadata": {},
   "source": [
    "Q10. Imagine a school management system. You have to design the \"Student\" class using OOP concepts.The “Student” class has the following attributes:\n",
    "\n",
    "a. name: Represents the name of the student.\n",
    "\n",
    "b. age: Represents the age of the student.\n",
    "\n",
    "c. grade: Represents the grade or class of the student.\n",
    "\n",
    "d. student_id: Represents the unique identifier for the student.\n",
    "\n",
    "e. attendance: Represents the attendance record of the student.\n",
    "\n",
    "The class should also include the following methods:\n",
    "\n",
    "a. update_attendance(self, date, status): Updates the attendance record of the student for a given date with the provided status (e.g., present or absent).\n",
    "\n",
    "b. get_attendance(self): Returns the attendance record of the student.\n",
    "\n",
    "c. get_average_attendance(self): Calculates and returns the average\n",
    "attendance percentage of the student based on their attendance record.\n",
    "\n"
   ]
  },
  {
   "cell_type": "code",
   "execution_count": 105,
   "id": "02f585f9",
   "metadata": {},
   "outputs": [],
   "source": [
    "#Exmpls\n",
    "\n",
    "class Student:\n",
    "    def __init__(self, name, age, grade, student_id):\n",
    "        self.name = name\n",
    "        self.age = age\n",
    "        self.grade = grade\n",
    "        self.student_id = student_id\n",
    "        self.attendance = {}\n",
    "\n",
    "    def update_attendance(self, date, status):\n",
    "        self.attendance[date] = status\n",
    "        print(f\"Attendance record for {self.name} on {date} updated: {status}\")\n",
    "\n",
    "    def get_attendance(self):\n",
    "        return self.attendance\n",
    "\n",
    "    def get_average_attendance(self):\n",
    "        total_days = len(self.attendance)\n",
    "        present_days = sum(status == \"present\" for status in self.attendance.values())\n",
    "        if total_days == 0:\n",
    "            return 0\n",
    "        else:\n",
    "            average_attendance = (present_days / total_days) * 100\n",
    "            return average_attendance\n",
    "\n"
   ]
  },
  {
   "cell_type": "code",
   "execution_count": 112,
   "id": "75a6a24d",
   "metadata": {},
   "outputs": [
    {
     "name": "stdout",
     "output_type": "stream",
     "text": [
      "Attendance record for Shazid khan on 2023-08-01 updated: present\n",
      "Attendance record for Shazid khan on 2023-08-02 updated: absent\n",
      "Attendance record for Shazid khan on 2023-08-03 updated: present\n",
      "Attendance record for Shazid khan on 2023-08-04 updated: absent\n",
      "Attendance record for Shazid khan on 2023-08-05 updated: absent\n",
      "{'2023-08-01': 'present', '2023-08-02': 'absent', '2023-08-03': 'present', '2023-08-04': 'absent', '2023-08-05': 'absent'}\n",
      "Average attendance for Shazid khan is : 40.0%\n"
     ]
    }
   ],
   "source": [
    "# Example\n",
    "\n",
    "\n",
    "student1 = Student(\"Shazid khan\", 16, \"10th grade\", \"S1003\")\n",
    "\n",
    "\n",
    "student1.update_attendance(\"2023-08-01\", \"present\")  # Update attendance for a date\n",
    "student1.update_attendance(\"2023-08-02\", \"absent\")  # Update attendance for another date\n",
    "student1.update_attendance(\"2023-08-03\", \"present\") #attendence update\n",
    "student1.update_attendance(\"2023-08-04\", \"absent\") #attendane update\n",
    "student1.update_attendance(\"2023-08-05\", \"absent\") #attendence update\n",
    "\n",
    "attendance_record = student1.get_attendance()\n",
    "print(attendance_record)  # Display the attendance record\n",
    "\n",
    "average_attendance = student1.get_average_attendance()\n",
    "print(f\"Average attendance for {student1.name} is : {average_attendance}%\")"
   ]
  },
  {
   "cell_type": "code",
   "execution_count": null,
   "id": "e48ec9ef",
   "metadata": {},
   "outputs": [],
   "source": []
  },
  {
   "cell_type": "code",
   "execution_count": null,
   "id": "aad339b7",
   "metadata": {},
   "outputs": [],
   "source": []
  },
  {
   "cell_type": "code",
   "execution_count": null,
   "id": "d5ae74d4",
   "metadata": {},
   "outputs": [],
   "source": []
  },
  {
   "cell_type": "code",
   "execution_count": null,
   "id": "03ded616",
   "metadata": {},
   "outputs": [],
   "source": []
  }
 ],
 "metadata": {
  "kernelspec": {
   "display_name": "Python 3 (ipykernel)",
   "language": "python",
   "name": "python3"
  },
  "language_info": {
   "codemirror_mode": {
    "name": "ipython",
    "version": 3
   },
   "file_extension": ".py",
   "mimetype": "text/x-python",
   "name": "python",
   "nbconvert_exporter": "python",
   "pygments_lexer": "ipython3",
   "version": "3.10.9"
  }
 },
 "nbformat": 4,
 "nbformat_minor": 5
}
