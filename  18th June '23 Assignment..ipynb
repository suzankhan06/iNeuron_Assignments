{
 "cells": [
  {
   "cell_type": "markdown",
   "id": "ca15e0ec",
   "metadata": {},
   "source": [
    "Q1. What is the role of the 'else' block in a try-except statement? Provide an example scenario where it would be useful.\n",
    "\n",
    "Ans: the 'else' block in a try-except statement is optional and provides a block of code to be executed if no exceptions are raised within the try block. it tells you run the code onlywhen the try blck completes without anyexceptions"
   ]
  },
  {
   "cell_type": "code",
   "execution_count": 25,
   "id": "d46301de",
   "metadata": {},
   "outputs": [
    {
     "name": "stdout",
     "output_type": "stream",
     "text": [
      "Enter the path of the file: sa\n",
      "Error: File not found\n"
     ]
    }
   ],
   "source": [
    "try:\n",
    "    file_path = input(\"Enter the path of the file: \")\n",
    "    file = open(file_path, 'r')\n",
    "except FileNotFoundError:\n",
    "    print(\"Error: File not found\")\n",
    "else:\n",
    "    print(\"File opened successfully!\")\n",
    "    data = file.read()\n",
    "    print(\"File contents:\", data)\n",
    "    file.close()"
   ]
  },
  {
   "cell_type": "markdown",
   "id": "a5519e3e",
   "metadata": {},
   "source": [
    "Q2. Can a try-except block be nested inside another try-except block? Explain with an example.\n",
    "\n",
    "Ans: yes, this is also known as nested exception handling. this allows handling different levels of exceptions in a hierarchical manner"
   ]
  },
  {
   "cell_type": "code",
   "execution_count": 27,
   "id": "4af2349b",
   "metadata": {},
   "outputs": [
    {
     "name": "stdout",
     "output_type": "stream",
     "text": [
      "Enter the numerator: s\n",
      "Error: Invalid input. Please enter integers.\n"
     ]
    }
   ],
   "source": [
    "#Exmple\n",
    "\n",
    "try:\n",
    "    # Outer try block\n",
    "    num1 = int(input(\"Enter the numerator: \"))\n",
    "    num2 = int(input(\"Enter the denominator: \"))\n",
    "    try:\n",
    "        # Inner try block\n",
    "        result = num1 / num2\n",
    "        print(\"Result:\", result)\n",
    "    except ZeroDivisionError:\n",
    "        print(\"Error: Division by zero\")\n",
    "except ValueError:\n",
    "    print(\"Error: Invalid input. Please enter integers.\")\n",
    "    "
   ]
  },
  {
   "cell_type": "markdown",
   "id": "0db9c9e8",
   "metadata": {},
   "source": [
    "Q3. How can you create a custom exception class in Python? Provide an example that demonstrates its usage.\n",
    "\n",
    "Ans: you can create a custom exception class by defininf a new class that inherits from the built-in exception. you can define your own exception types with attributes and a message"
   ]
  },
  {
   "cell_type": "code",
   "execution_count": 30,
   "id": "15629260",
   "metadata": {},
   "outputs": [],
   "source": [
    "class CustomException(Exception):\n",
    "    def __init__(self, message):\n",
    "        self.message = message\n",
    "\n",
    "    def __str__(self):\n",
    "        return f'CustomException: {self.message}'\n",
    "\n"
   ]
  },
  {
   "cell_type": "code",
   "execution_count": 35,
   "id": "c3b1e778",
   "metadata": {},
   "outputs": [
    {
     "name": "stdout",
     "output_type": "stream",
     "text": [
      "Enter a value: s\n",
      "An exception occurred: CustomException: Input must be an integer\n"
     ]
    }
   ],
   "source": [
    "# Usage example\n",
    "def validate_input(value):\n",
    "    if not isinstance(value, int):\n",
    "        raise CustomException(\"Input must be an integer\")\n",
    "\n",
    "try:\n",
    "    user_input = input(\"Enter a value: \")\n",
    "    validate_input(user_input)\n",
    "    print(\"Valid input:\", user_input)\n",
    "except CustomException as ce:\n",
    "    print(\"An exception occurred:\", str(ce))"
   ]
  },
  {
   "cell_type": "markdown",
   "id": "9c98d79b",
   "metadata": {},
   "source": [
    "Q4. What are some common exceptions that are built-in to Python?\n",
    "\n",
    "Ans: TypeError: when a function is performed is of inappropriate type.\n",
    "\n",
    "ValueError: when a function receives an argument of the correct type but an inappropriate value.\n",
    "\n",
    "IOError: when an I/O operation fails.\n",
    "\n",
    "ImportError: when an imported module or a part of it cannot be found.\n",
    "\n",
    "AttributeError: when an attribute reference or assignment fails.\n",
    "\n",
    "NameError: when a local or global name is not found.\n",
    "\n",
    "IndexError: when a sequence subscript is out of range.\n",
    "\n",
    "KeyError: when a key is not found.\n",
    "\n",
    "FileNotFoundError: when a file or directory is not found.\n",
    "\n",
    "ZeroDivisionError: when division is performed with zero as the divisor.\n"
   ]
  },
  {
   "cell_type": "markdown",
   "id": "0684d4a6",
   "metadata": {},
   "source": [
    "Q5. What is logging in Python, and why is it important in software development?\n",
    "\n",
    "Ans: it is nuilt in module and provides to recod the events or error that are occured during our program. it also allows us to geenrate log files and records and store them. \n",
    "\n",
    "Itis important coz:\n",
    "- it helps us knowing where the issue is raised\n",
    "- it helps us in tracking the error and monitroing it in our production server \n",
    "- it helps us to analyze the performance of our deloplyment\n",
    "- it helps us to store the records and document it for further use"
   ]
  },
  {
   "cell_type": "markdown",
   "id": "47497d5d",
   "metadata": {},
   "source": [
    "Q6. Explain the purpose of log levels in Python logging and provide examples of when each log level would be appropriate.\n",
    "\n",
    "Ans: the log levels helps us to see and check which log error is importance and which to solve it first.\n",
    "\n",
    "info- this log helps us to check the correct functioning of an application\n",
    "\n",
    "debug- it is used for more detailed info \n",
    "\n",
    "warning- it shows the servere issue held during our execution of a application\n",
    "\n",
    "error- it shows the condition of error that is stopping us to execute the application"
   ]
  },
  {
   "cell_type": "markdown",
   "id": "ac121a41",
   "metadata": {},
   "source": [
    "Q7. What are log formatters in Python logging, and how can you customise the log message format using formatters?\n",
    "\n",
    "Ans: it is used for defining the structure and content of log message\n",
    "\n",
    "The Formatter class allows you to specify a format string containing placeholders for various attributes of the log record, such as the log level, timestamp, logger name, and message."
   ]
  },
  {
   "cell_type": "code",
   "execution_count": 36,
   "id": "fdac5f30",
   "metadata": {},
   "outputs": [
    {
     "name": "stderr",
     "output_type": "stream",
     "text": [
      "2023-08-06 09:52:08,469 - my_logger - DEBUG - This is a debug message\n",
      "2023-08-06 09:52:08,470 - my_logger - INFO - This is an info message\n",
      "2023-08-06 09:52:08,471 - my_logger - WARNING - This is a warning message\n"
     ]
    }
   ],
   "source": [
    "# for exmple\n",
    "\n",
    "import logging\n",
    "\n",
    "# Create a logger\n",
    "logger = logging.getLogger('my_logger')\n",
    "logger.setLevel(logging.DEBUG)\n",
    "\n",
    "# Create a formatter\n",
    "formatter = logging.Formatter('%(asctime)s - %(name)s - %(levelname)s - %(message)s')\n",
    "\n",
    "# Create a handler and set the formatter\n",
    "handler = logging.StreamHandler()\n",
    "handler.setFormatter(formatter)\n",
    "\n",
    "# Add the handler to the logger\n",
    "logger.addHandler(handler)\n",
    "\n",
    "# Log messages\n",
    "logger.debug('This is a debug message')\n",
    "logger.info('This is an info message')\n",
    "logger.warning('This is a warning message')"
   ]
  },
  {
   "cell_type": "markdown",
   "id": "ec433cea",
   "metadata": {},
   "source": [
    "Q8. How can you set up logging to capture log messages from multiple modules or classes in a Python application?\n",
    "\n",
    "Ans: we can set up a hierarchical logger using the logging module. it allows to organize and configure loggin for different parts of your application\n",
    "\n"
   ]
  },
  {
   "cell_type": "code",
   "execution_count": 37,
   "id": "a22f00a0",
   "metadata": {},
   "outputs": [
    {
     "name": "stderr",
     "output_type": "stream",
     "text": [
      "2023-08-06 09:54:45,072 - module1 - DEBUG - Debug message from module1\n",
      "2023-08-06 09:54:45,072 - module1 - DEBUG - Debug message from module1\n",
      "2023-08-06 09:54:45,074 - module1 - INFO - Info message from module1\n",
      "2023-08-06 09:54:45,074 - module1 - INFO - Info message from module1\n",
      "2023-08-06 09:54:45,077 - module2 - INFO - Info message from module2\n",
      "2023-08-06 09:54:45,077 - module2 - INFO - Info message from module2\n",
      "2023-08-06 09:54:45,079 - module2 - WARNING - Warning message from module2\n",
      "2023-08-06 09:54:45,079 - module2 - WARNING - Warning message from module2\n"
     ]
    }
   ],
   "source": [
    "import logging\n",
    "\n",
    "# Set the root logger level and configure the log format\n",
    "logging.basicConfig(level=logging.DEBUG, format='%(asctime)s - %(name)s - %(levelname)s - %(message)s')\n",
    "\n",
    "# Create loggers for specific modules or classes\n",
    "logger1 = logging.getLogger('module1')\n",
    "logger2 = logging.getLogger('module2')\n",
    "\n",
    "# Set the log levels for the individual loggers\n",
    "logger1.setLevel(logging.DEBUG)\n",
    "logger2.setLevel(logging.INFO)\n",
    "\n",
    "# Create a handler and set the log level for the handler\n",
    "handler = logging.StreamHandler()\n",
    "handler.setLevel(logging.DEBUG)\n",
    "\n",
    "# Create a formatter and set it for the handler\n",
    "formatter = logging.Formatter('%(asctime)s - %(name)s - %(levelname)s - %(message)s')\n",
    "handler.setFormatter(formatter)\n",
    "\n",
    "# Add the handler to the loggers\n",
    "logger1.addHandler(handler)\n",
    "logger2.addHandler(handler)\n",
    "\n",
    "# Log messages from module1\n",
    "logger1.debug('Debug message from module1')\n",
    "logger1.info('Info message from module1')\n",
    "\n",
    "# Log messages from module2\n",
    "logger2.info('Info message from module2')\n",
    "logger2.warning('Warning message from module2')"
   ]
  },
  {
   "cell_type": "markdown",
   "id": "2fb1e18d",
   "metadata": {},
   "source": [
    "Q9. What is the difference between the logging and print statements in Python? When should you use logging over print statements in a real-world application?\n",
    "\n",
    "Ans: The print statement outputs messages to the console, while the logging module allows you to direct log messages to various output destinations\n",
    "\n",
    "print statements are less configurable and provide limited control whereas, logging module provides extensive configuration options, including log levels, loggers, handlers, and formatters.\n",
    "\n",
    "print statements do not have built-in log levels whereas, logging module offers different log levels\n",
    "\n",
    "print statements are usually used for temporary debugging purposes wheras, the logging module is designed for production-ready logging and has optimized performance characteristics.\n",
    "\n",
    "Considering the above mentioned differences, it is recommended to use loggin over print statement..\n",
    "\n",
    "Logging provides a more structured and organized approach to capturing log messages. \n",
    "\n",
    "Logging with different log levels allows you to selectively enable or disable specific log messages based on the severity or relevance\n",
    "\n",
    "The logging module offers better performance, configurability, and scalability for logging in production environments.\n",
    "\n",
    "Logging provides a long-term solution for capturing and analyzing log data"
   ]
  },
  {
   "cell_type": "markdown",
   "id": "4b9157aa",
   "metadata": {},
   "source": [
    "Q10. Write a Python program that logs a message to a file named \"app.log\" with the following requirements:\n",
    "\n",
    "● The log message should be \"Hello, World!\"\n",
    "\n",
    "● The log level should be set to \"INFO.\"\n",
    "\n",
    "● The log file should append new log entries without overwriting previous ones.\n",
    "\n",
    "Ans: "
   ]
  },
  {
   "cell_type": "code",
   "execution_count": 53,
   "id": "f6b1fa00",
   "metadata": {},
   "outputs": [
    {
     "name": "stderr",
     "output_type": "stream",
     "text": [
      "2023-08-06 10:44:21,696 - root - INFO - Hello, World!\n"
     ]
    }
   ],
   "source": [
    "import logging\n",
    "\n",
    "# Configure logging\n",
    "logging.basicConfig(filename='app.log', level=logging.INFO, filemode='a', format='%(asctime)s - %(levelname)s - %(message)s')\n",
    "\n",
    "# Log the message\n",
    "logging.info('Hello, World!')"
   ]
  },
  {
   "cell_type": "markdown",
   "id": "ef723261",
   "metadata": {},
   "source": [
    "Q11. Create a Python program that logs an error message to the console and a file named \"errors.log\" if an exception occurs during the program's execution. The error message should include the exception type and a timestamp.\n",
    "\n",
    "Ans:"
   ]
  },
  {
   "cell_type": "code",
   "execution_count": 77,
   "id": "d7258e21",
   "metadata": {},
   "outputs": [
    {
     "name": "stderr",
     "output_type": "stream",
     "text": [
      "2023-08-06 11:04:34,220 - root - ERROR - Exception of type 'ZeroDivisionError' occurred at 2023-08-06 11:04:34\n"
     ]
    },
    {
     "ename": "ZeroDivisionError",
     "evalue": "division by zero",
     "output_type": "error",
     "traceback": [
      "\u001b[1;31m---------------------------------------------------------------------------\u001b[0m",
      "\u001b[1;31mZeroDivisionError\u001b[0m                         Traceback (most recent call last)",
      "Cell \u001b[1;32mIn[77], line 23\u001b[0m\n\u001b[0;32m     20\u001b[0m logging\u001b[38;5;241m.\u001b[39mgetLogger()\u001b[38;5;241m.\u001b[39maddHandler(file_handler)\n\u001b[0;32m     22\u001b[0m \u001b[38;5;66;03m# Raise the exception again to halt the program\u001b[39;00m\n\u001b[1;32m---> 23\u001b[0m \u001b[38;5;28;01mraise\u001b[39;00m e\n",
      "Cell \u001b[1;32mIn[77], line 9\u001b[0m\n\u001b[0;32m      5\u001b[0m logging\u001b[38;5;241m.\u001b[39mbasicConfig(level\u001b[38;5;241m=\u001b[39mlogging\u001b[38;5;241m.\u001b[39mERROR, \u001b[38;5;28mformat\u001b[39m\u001b[38;5;241m=\u001b[39m\u001b[38;5;124m'\u001b[39m\u001b[38;5;132;01m%(asctime)s\u001b[39;00m\u001b[38;5;124m - \u001b[39m\u001b[38;5;132;01m%(levelname)s\u001b[39;00m\u001b[38;5;124m - \u001b[39m\u001b[38;5;132;01m%(message)s\u001b[39;00m\u001b[38;5;124m'\u001b[39m)\n\u001b[0;32m      7\u001b[0m \u001b[38;5;28;01mtry\u001b[39;00m:\n\u001b[0;32m      8\u001b[0m     \u001b[38;5;66;03m# Code that may raise an exception\u001b[39;00m\n\u001b[1;32m----> 9\u001b[0m     result \u001b[38;5;241m=\u001b[39m \u001b[38;5;241;43m10\u001b[39;49m\u001b[43m \u001b[49m\u001b[38;5;241;43m/\u001b[39;49m\u001b[43m \u001b[49m\u001b[38;5;241;43m0\u001b[39;49m  \u001b[38;5;66;03m# Division by zero to trigger an exception\u001b[39;00m\n\u001b[0;32m     10\u001b[0m \u001b[38;5;28;01mexcept\u001b[39;00m \u001b[38;5;167;01mException\u001b[39;00m \u001b[38;5;28;01mas\u001b[39;00m e:\n\u001b[0;32m     11\u001b[0m     \u001b[38;5;66;03m# Log the exception\u001b[39;00m\n\u001b[0;32m     12\u001b[0m     timestamp \u001b[38;5;241m=\u001b[39m datetime\u001b[38;5;241m.\u001b[39mdatetime\u001b[38;5;241m.\u001b[39mnow()\u001b[38;5;241m.\u001b[39mstrftime(\u001b[38;5;124m'\u001b[39m\u001b[38;5;124m%\u001b[39m\u001b[38;5;124mY-\u001b[39m\u001b[38;5;124m%\u001b[39m\u001b[38;5;124mm-\u001b[39m\u001b[38;5;132;01m%d\u001b[39;00m\u001b[38;5;124m \u001b[39m\u001b[38;5;124m%\u001b[39m\u001b[38;5;124mH:\u001b[39m\u001b[38;5;124m%\u001b[39m\u001b[38;5;124mM:\u001b[39m\u001b[38;5;124m%\u001b[39m\u001b[38;5;124mS\u001b[39m\u001b[38;5;124m'\u001b[39m)\n",
      "\u001b[1;31mZeroDivisionError\u001b[0m: division by zero"
     ]
    }
   ],
   "source": [
    "import logging\n",
    "import datetime\n",
    "\n",
    "# Configure logging\n",
    "logging.basicConfig(level=logging.ERROR, format='%(asctime)s - %(levelname)s - %(message)s')\n",
    "\n",
    "try:\n",
    "    # Code that may raise an exception\n",
    "    result = 10 / 0  # Division by zero to trigger an exception\n",
    "except Exception as e:\n",
    "    # Log the exception\n",
    "    timestamp = datetime.datetime.now().strftime('%Y-%m-%d %H:%M:%S')\n",
    "    error_message = f\"Exception of type '{type(e).__name__}' occurred at {timestamp}\"\n",
    "    logging.error(error_message)\n",
    "\n",
    "    # Log the exception to a file\n",
    "    file_handler = logging.FileHandler('errors.log')\n",
    "    file_handler.setLevel(logging.ERROR)\n",
    "    file_handler.setFormatter(logging.Formatter('%(asctime)s - %(levelname)s - %(message)s'))\n",
    "    logging.getLogger().addHandler(file_handler)\n",
    "\n",
    "    # Raise the exception again to halt the program\n",
    "    raise e"
   ]
  }
 ],
 "metadata": {
  "kernelspec": {
   "display_name": "Python 3 (ipykernel)",
   "language": "python",
   "name": "python3"
  },
  "language_info": {
   "codemirror_mode": {
    "name": "ipython",
    "version": 3
   },
   "file_extension": ".py",
   "mimetype": "text/x-python",
   "name": "python",
   "nbconvert_exporter": "python",
   "pygments_lexer": "ipython3",
   "version": "3.10.9"
  }
 },
 "nbformat": 4,
 "nbformat_minor": 5
}
