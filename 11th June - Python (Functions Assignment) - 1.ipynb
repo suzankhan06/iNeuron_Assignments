{
 "cells": [
  {
   "cell_type": "markdown",
   "id": "dcf1adf3",
   "metadata": {},
   "source": [
    "Q1. What is a lambda function in Python, and how does it differ from a regular function?\n",
    "\n",
    "Ans: Lambda functionare small function and can be defined without name. Lambda functions are typically used when you need a simple function for a short period and don't want to define a separate named function.\n",
    "\n",
    "The syntax for defining a lambda function is more concise compared to a regular function\n",
    "\n",
    "Lambda functions are anonymous, meaning they don't have a name\n",
    "\n",
    "Lambda functions can have only a single expression\n",
    "\n",
    "Lambda functions are defined in the same scope where they are used"
   ]
  },
  {
   "cell_type": "markdown",
   "id": "3359927d",
   "metadata": {},
   "source": [
    "Q2. Can a lambda function in Python have multiple arguments? If yes, how can you define and use them?\n",
    "\n",
    "Ans: Yes, a lambda function in Python can have multiple arguments. You can define and use multiple arguments in a lambda function by separating them with commas in the argument list."
   ]
  },
  {
   "cell_type": "code",
   "execution_count": 6,
   "id": "b2f62d85",
   "metadata": {},
   "outputs": [
    {
     "name": "stdout",
     "output_type": "stream",
     "text": [
      "8\n"
     ]
    }
   ],
   "source": [
    "add = lambda x, y: x + y #here, we have used multiple arguments\n",
    "result = add(3, 5)\n",
    "print(result) "
   ]
  },
  {
   "cell_type": "markdown",
   "id": "280577c7",
   "metadata": {},
   "source": [
    "Q3. How are lambda functions typically used in Python? Provide an example use case.\n",
    "\n",
    "Ans: Lambda functionare small function and can be defined without name. Lambda functions are typically used when you need a simple function for a short period and don't want to define a separate named function.\n",
    "\n"
   ]
  },
  {
   "cell_type": "code",
   "execution_count": 14,
   "id": "de873459",
   "metadata": {},
   "outputs": [
    {
     "name": "stdout",
     "output_type": "stream",
     "text": [
      "[1, 4, 9, 16, 25]\n"
     ]
    }
   ],
   "source": [
    "# Example\n",
    "\n",
    "# Using lambda function with map()\n",
    "numbers = [1, 2, 3, 4, 5]\n",
    "squared_numbers = map(lambda x: x ** 2, numbers)\n",
    "print(list(squared_numbers))  # here, it will return the square of each element provided in the numbers."
   ]
  },
  {
   "cell_type": "markdown",
   "id": "ca403e88",
   "metadata": {},
   "source": [
    "Q4. What are the advantages and limitations of lambda functions compared to regular functions in Python?\n",
    "\n",
    "Ans: Advantages: \n",
    "\n",
    "- it has compact syntax\n",
    "- they dont require a name\n",
    "- they are often used with high order functions\n",
    "\n",
    "Limitations:\n",
    "\n",
    "- they are limited to single expression\n",
    "- since they dnt have name, it could be harder to debug\n",
    "- they are made for simple operations\n",
    "- they have limitations\n"
   ]
  },
  {
   "cell_type": "markdown",
   "id": "7393d5b3",
   "metadata": {},
   "source": [
    "Q5. Are lambda functions in Python able to access variables defined outside of their own scope? Explain with an example.\n",
    "\n",
    "Ans: yes, we can access them outside of their own scope. "
   ]
  },
  {
   "cell_type": "code",
   "execution_count": 15,
   "id": "5add56a1",
   "metadata": {},
   "outputs": [
    {
     "name": "stdout",
     "output_type": "stream",
     "text": [
      "15\n"
     ]
    }
   ],
   "source": [
    "#Exmple\n",
    "\n",
    "\n",
    "def calculate():\n",
    "    x = 10\n",
    "\n",
    "    # Lambda function accessing variable from the enclosing scope\n",
    "    lambda_function = lambda y: x + y\n",
    "\n",
    "    return lambda_function\n",
    "\n",
    "# Call the outer function to get the lambda function\n",
    "my_lambda = calculate()\n",
    "\n",
    "# Call the lambda function with an argument\n",
    "result = my_lambda(5)\n",
    "print(result)  "
   ]
  },
  {
   "cell_type": "markdown",
   "id": "d66ce389",
   "metadata": {},
   "source": [
    "Q6. Write a lambda function to calculate the square of a given number."
   ]
  },
  {
   "cell_type": "code",
   "execution_count": 21,
   "id": "2494fbf6",
   "metadata": {},
   "outputs": [
    {
     "name": "stdout",
     "output_type": "stream",
     "text": [
      "[1, 4, 9, 16, 25]\n"
     ]
    }
   ],
   "source": [
    "# Example 1\n",
    "\n",
    "numbers = [1, 2, 3, 4, 5]\n",
    "squared_numbers = map(lambda x: x ** 2, numbers)\n",
    "print(list(squared_numbers))  "
   ]
  },
  {
   "cell_type": "code",
   "execution_count": 24,
   "id": "d9398479",
   "metadata": {},
   "outputs": [
    {
     "name": "stdout",
     "output_type": "stream",
     "text": [
      "25\n"
     ]
    }
   ],
   "source": [
    "# Example 2\n",
    "\n",
    "square = lambda x: x**2\n",
    "number = 5\n",
    "result = square(number)\n",
    "print(result)"
   ]
  },
  {
   "cell_type": "markdown",
   "id": "58846fa7",
   "metadata": {},
   "source": [
    "Q7. Create a lambda function to find the maximum value in a list of integers.\n",
    "\n"
   ]
  },
  {
   "cell_type": "code",
   "execution_count": 27,
   "id": "236c373c",
   "metadata": {},
   "outputs": [
    {
     "name": "stdout",
     "output_type": "stream",
     "text": [
      "10\n"
     ]
    }
   ],
   "source": [
    "# exmaple\n",
    "\n",
    "max_num = lambda lst: max(lst)\n",
    "\n",
    "numbers = [10,5,7,1,2,4,3,9,6,4]\n",
    "\n",
    "result = max_num(numbers)\n",
    "\n",
    "print(result)"
   ]
  },
  {
   "cell_type": "markdown",
   "id": "94ea4a26",
   "metadata": {},
   "source": [
    "Q8. Implement a lambda function to filter out all the even numbers from a list of integers."
   ]
  },
  {
   "cell_type": "code",
   "execution_count": 29,
   "id": "0173ee87",
   "metadata": {},
   "outputs": [
    {
     "name": "stdout",
     "output_type": "stream",
     "text": [
      "[10, 2, 4, 6, 4]\n"
     ]
    }
   ],
   "source": [
    "# exmaple\n",
    "\n",
    "even_num = lambda lst: list(filter(lambda x: x % 2 == 0, lst))\n",
    "\n",
    "numbers = [10,5,7,1,2,4,3,9,6,4]\n",
    "\n",
    "result = even_num(numbers)\n",
    "\n",
    "print(result)"
   ]
  },
  {
   "cell_type": "markdown",
   "id": "30b00178",
   "metadata": {},
   "source": [
    "Q9. Write a lambda function to sort a list of strings in ascending order based on the length of each string."
   ]
  },
  {
   "cell_type": "code",
   "execution_count": 32,
   "id": "1738f9b8",
   "metadata": {},
   "outputs": [
    {
     "name": "stdout",
     "output_type": "stream",
     "text": [
      "['date', 'mango', 'grapes', 'banana', 'strawberry']\n"
     ]
    }
   ],
   "source": [
    "str_len = lambda lst: sorted(lst, key = lambda x: len(x))\n",
    "\n",
    "strings = ['strawberry', 'mango', 'grapes', 'date', 'banana']\n",
    "\n",
    "result = str_len(strings)\n",
    "\n",
    "print(result)"
   ]
  },
  {
   "cell_type": "markdown",
   "id": "23224d4e",
   "metadata": {},
   "source": [
    "Q10. Create a lambda function that takes two lists as input and returns a new list containing the common elements between the two lists."
   ]
  },
  {
   "cell_type": "code",
   "execution_count": 48,
   "id": "348800ef",
   "metadata": {},
   "outputs": [
    {
     "name": "stdout",
     "output_type": "stream",
     "text": [
      "[4, 5]\n"
     ]
    }
   ],
   "source": [
    "common = lambda list1, list2: list(filter(lambda x: x in list2, list1))\n",
    "\n",
    "list1 = [1, 2, 3, 4, 5]\n",
    "list2 = [4, 5, 6, 7, 8]\n",
    "result = common(list1, list2)\n",
    "print(result) "
   ]
  },
  {
   "cell_type": "markdown",
   "id": "85dd052d",
   "metadata": {},
   "source": [
    "Q11. Write a recursive function to calculate the factorial of a given positive integer."
   ]
  },
  {
   "cell_type": "code",
   "execution_count": 62,
   "id": "81350c53",
   "metadata": {},
   "outputs": [
    {
     "name": "stdout",
     "output_type": "stream",
     "text": [
      "120\n"
     ]
    }
   ],
   "source": [
    "def factorial(n):\n",
    "    if n == 0 or n == 1:\n",
    "        return 1\n",
    "    else:\n",
    "        return n * factorial(n - 1)\n",
    "    \n",
    "number = 5\n",
    "result = factorial(number)\n",
    "print(result)  "
   ]
  },
  {
   "cell_type": "markdown",
   "id": "601e6477",
   "metadata": {},
   "source": [
    "Q12. Implement a recursive function to compute the nth Fibonacci number."
   ]
  },
  {
   "cell_type": "code",
   "execution_count": 73,
   "id": "cbea2c91",
   "metadata": {},
   "outputs": [
    {
     "name": "stdout",
     "output_type": "stream",
     "text": [
      "13\n"
     ]
    }
   ],
   "source": [
    "def fibonacci(n):\n",
    "    if n <= 0:\n",
    "        return None\n",
    "    elif n == 1 or n == 2:\n",
    "        return 1\n",
    "    else:\n",
    "        return fibonacci(n - 1) + fibonacci(n - 2)\n",
    "    \n",
    "n = 7\n",
    "result = fibonacci(n)\n",
    "print(result)"
   ]
  },
  {
   "cell_type": "markdown",
   "id": "df3ffa60",
   "metadata": {},
   "source": [
    "Q13. Create a recursive function to find the sum of all the elements in a given list."
   ]
  },
  {
   "cell_type": "code",
   "execution_count": 78,
   "id": "80556740",
   "metadata": {},
   "outputs": [
    {
     "name": "stdout",
     "output_type": "stream",
     "text": [
      "15\n"
     ]
    }
   ],
   "source": [
    "def sum_of_list_elements(lst):\n",
    "    if not lst:\n",
    "        return 0\n",
    "    else:\n",
    "        return lst[0] + sum_of_list_elements(lst[1:])\n",
    "    \n",
    "my_list = [1, 2, 3, 4, 5]\n",
    "result = sum_of_list_elements(my_list)\n",
    "print(result) "
   ]
  },
  {
   "cell_type": "markdown",
   "id": "c8df4686",
   "metadata": {},
   "source": [
    "Q14. Write a recursive function to determine whether a given string is a palindrome."
   ]
  },
  {
   "cell_type": "code",
   "execution_count": 100,
   "id": "45f4314a",
   "metadata": {},
   "outputs": [
    {
     "name": "stdout",
     "output_type": "stream",
     "text": [
      "True\n",
      "False\n"
     ]
    }
   ],
   "source": [
    "# here, we check if the base cases length of the string is less than or equal to 1, we consider it as palindrome\n",
    "#and if the first and last character of the string is not equal, then we consider it not a palindrome\n",
    "\n",
    "def is_palindrome(s):\n",
    "    if len(s) <= 1:\n",
    "        return True\n",
    "    elif s[0] != s[-1]:\n",
    "        return False\n",
    "    else:\n",
    "        return is_palindrome(s[1:-1])\n",
    "    \n",
    "string1 = \"radar\"\n",
    "result1 = is_palindrome(string1)\n",
    "print(result1) \n",
    "\n",
    "string2 = \"Shazid\"\n",
    "result2 = is_palindrome(string2)\n",
    "print(result2)  "
   ]
  },
  {
   "cell_type": "markdown",
   "id": "4a8f5e7c",
   "metadata": {},
   "source": [
    "Q15. Implement a recursive function to find the greatest common divisor (GCD) of two positive integers."
   ]
  },
  {
   "cell_type": "code",
   "execution_count": 103,
   "id": "7495dcbc",
   "metadata": {},
   "outputs": [
    {
     "name": "stdout",
     "output_type": "stream",
     "text": [
      "36\n"
     ]
    }
   ],
   "source": [
    "#example\n",
    "\n",
    "def gcd(a, b):\n",
    "    if b == 0:\n",
    "        return a\n",
    "    else:\n",
    "        return gcd(b, a % b)\n",
    "    \n",
    "num1 = 36\n",
    "num2 = 72\n",
    "result = gcd(num1, num2)\n",
    "print(result)"
   ]
  },
  {
   "cell_type": "code",
   "execution_count": null,
   "id": "9a107b6c",
   "metadata": {},
   "outputs": [],
   "source": []
  }
 ],
 "metadata": {
  "kernelspec": {
   "display_name": "Python 3 (ipykernel)",
   "language": "python",
   "name": "python3"
  },
  "language_info": {
   "codemirror_mode": {
    "name": "ipython",
    "version": 3
   },
   "file_extension": ".py",
   "mimetype": "text/x-python",
   "name": "python",
   "nbconvert_exporter": "python",
   "pygments_lexer": "ipython3",
   "version": "3.10.9"
  }
 },
 "nbformat": 4,
 "nbformat_minor": 5
}
