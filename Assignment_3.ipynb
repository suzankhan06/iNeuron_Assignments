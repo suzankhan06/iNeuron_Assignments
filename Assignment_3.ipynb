{
 "cells": [
  {
   "cell_type": "markdown",
   "id": "9feee91c",
   "metadata": {},
   "source": [
    "Q1. Why are functions advantageous to have in your programs?\n",
    "\n",
    "Ans: It makes your program shorter, easier to read and even easier to update. It alse reduces the need of similiar code again and again.\n",
    "\n"
   ]
  },
  {
   "cell_type": "markdown",
   "id": "28e130bf",
   "metadata": {},
   "source": [
    "Q2. When does the code in a function run: when it&#39;s specified or when it&#39;s called?\n",
    "\n",
    "Ans: It runs when the function is called\n",
    "\n"
   ]
  },
  {
   "cell_type": "markdown",
   "id": "0a66abbd",
   "metadata": {},
   "source": [
    "Q3. What statement creates a function?\n",
    "\n",
    "Ans: The def statement defines a function\n",
    "\n"
   ]
  },
  {
   "cell_type": "code",
   "execution_count": 6,
   "id": "c9bc4fdb",
   "metadata": {},
   "outputs": [],
   "source": [
    "# eg: \n",
    "def my_func():\n",
    "    pass"
   ]
  },
  {
   "cell_type": "markdown",
   "id": "2c3339a3",
   "metadata": {},
   "source": [
    "Q4. What is the difference between a function and a function call?\n",
    "\n",
    "Ans: A function consists of the def statement and the code in its def clause.\n",
    "\n",
    "A function call is what moves the program execution into the function, and the function call evaluates to the function's return value."
   ]
  },
  {
   "cell_type": "code",
   "execution_count": 7,
   "id": "56baa747",
   "metadata": {},
   "outputs": [],
   "source": [
    "# eg:\n",
    "# def of func\n",
    "def my_func(): \n",
    "    pass \n",
    "my_func() #calling of function"
   ]
  },
  {
   "cell_type": "markdown",
   "id": "362cb769",
   "metadata": {},
   "source": [
    "Q5. How many global scopes are there in a Python program? How many local scopes?\n",
    "\n",
    "Ans: There is only one global Python scope per program execution. This scope remains in existence until the program terminates and a local scope is created whenever a function is called."
   ]
  },
  {
   "cell_type": "markdown",
   "id": "9a392d85",
   "metadata": {},
   "source": [
    "Q6. What happens to variables in a local scope when the function call returns?\n",
    "\n",
    "Ans: The localscope is destroyed when a function call is returned"
   ]
  },
  {
   "cell_type": "markdown",
   "id": "a099d95c",
   "metadata": {},
   "source": [
    "Q7. What is the concept of a return value? Is it possible to have a return value in an expression?\n",
    "\n",
    "Ans: A return value is the value that a function call evaluates to. like any value, a return value can be used as part of an expression."
   ]
  },
  {
   "cell_type": "markdown",
   "id": "96302d07",
   "metadata": {},
   "source": [
    "Q8. If a function does not have a return statement, what is the return value of a call to that function?\n",
    "\n",
    "Ans: It will not return anything"
   ]
  },
  {
   "cell_type": "markdown",
   "id": "817179f2",
   "metadata": {},
   "source": [
    "Q9. How do you make a function variable refer to the global variable?\n",
    "\n",
    "Ans: Simply by using the global keyword to declare which variables are golbal."
   ]
  },
  {
   "cell_type": "markdown",
   "id": "1d95d339",
   "metadata": {},
   "source": [
    "Q10. What is the data type of None?\n",
    "\n",
    "Ans: Nonetype"
   ]
  },
  {
   "cell_type": "markdown",
   "id": "067b8279",
   "metadata": {},
   "source": [
    "Q11. What does the sentence import areallyourpetsnamederic do?\n",
    "\n",
    "Ans: it will import a module named \"areallyourpetsnamederic\" (but a module of this name doesnt exists in Python)"
   ]
  },
  {
   "cell_type": "markdown",
   "id": "1d0227fe",
   "metadata": {},
   "source": [
    "Q12. If you had a bacon() feature in a spam module, what would you call it after importing spam?\n",
    "\n",
    "Ans:\n",
    "import spam\n",
    "\n",
    "spam.bacon()"
   ]
  },
  {
   "cell_type": "markdown",
   "id": "9fefee04",
   "metadata": {},
   "source": [
    "Q13. What can you do to save a programme from crashing if it encounters an error?\n",
    "\n",
    "Ans: We can use try except clause to save a program from crashing."
   ]
  },
  {
   "cell_type": "markdown",
   "id": "28fdbdbf",
   "metadata": {},
   "source": [
    "Q14. What is the purpose of the try clause? What is the purpose of the except clause?\n",
    "\n",
    "Ans: Try and Except clause is used to handle the errors within our code . The try block is used to check some code for errors i.e the code inside the try block will execute when there is no error in the program. Whereas the code inside the except block will execute whenever the program encounters some error in the try block.\n",
    "\n"
   ]
  },
  {
   "cell_type": "code",
   "execution_count": null,
   "id": "81066f2c",
   "metadata": {},
   "outputs": [],
   "source": []
  },
  {
   "cell_type": "code",
   "execution_count": null,
   "id": "a561e1b6",
   "metadata": {},
   "outputs": [],
   "source": []
  },
  {
   "cell_type": "code",
   "execution_count": null,
   "id": "d014a54a",
   "metadata": {},
   "outputs": [],
   "source": []
  },
  {
   "cell_type": "code",
   "execution_count": null,
   "id": "a4a2b3c0",
   "metadata": {},
   "outputs": [],
   "source": []
  },
  {
   "cell_type": "code",
   "execution_count": null,
   "id": "8126530f",
   "metadata": {},
   "outputs": [],
   "source": []
  },
  {
   "cell_type": "code",
   "execution_count": null,
   "id": "601818a7",
   "metadata": {},
   "outputs": [],
   "source": []
  },
  {
   "cell_type": "code",
   "execution_count": null,
   "id": "9abe7724",
   "metadata": {},
   "outputs": [],
   "source": []
  }
 ],
 "metadata": {
  "kernelspec": {
   "display_name": "Python 3 (ipykernel)",
   "language": "python",
   "name": "python3"
  },
  "language_info": {
   "codemirror_mode": {
    "name": "ipython",
    "version": 3
   },
   "file_extension": ".py",
   "mimetype": "text/x-python",
   "name": "python",
   "nbconvert_exporter": "python",
   "pygments_lexer": "ipython3",
   "version": "3.10.9"
  }
 },
 "nbformat": 4,
 "nbformat_minor": 5
}
