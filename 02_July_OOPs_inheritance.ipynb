{
 "cells": [
  {
   "cell_type": "markdown",
   "id": "53be6d52",
   "metadata": {},
   "source": [
    "Q1. Explain what inheritance is in object-oriented programming and why it is used.\n",
    "\n",
    "Ans: Inheritance is a concept which allows a class to inherit or derive properties and behaviors from another class. \n",
    "\n",
    "Inheritance establishes a parent-child relationship between classes, where the child class (also known as a derived class or subclass) inherits the attributes and methods of the parent class (also known as a base class or superclass)."
   ]
  },
  {
   "cell_type": "markdown",
   "id": "caef7587",
   "metadata": {},
   "source": [
    "Q2. Discuss the concept of single inheritance and multiple inheritance, highlighting their differences and advantages.\n",
    "\n",
    "Ans: Single inheritance refers to the ability of a class to inherit from a single base class or superclass\n",
    "\n",
    "In single inheritance, a derived class can inherit attributes and behaviors from only one base class\n",
    "\n",
    "Advantages of single inheritance:\n",
    "\n",
    "- simpleway to define class relationship\n",
    "- itis easy to understand with a single parent class\n",
    "- it also avoid conflicts from attributes\n",
    "\n",
    "Multiple inheritance refers to the ability of a class to inherit from multiple base classes or superclasses\n",
    "\n",
    "In multiple inheritance, a derived class can inherit attributes and behaviors from two or more base classes\n",
    "\n",
    "It can also merge the attributes from multiple base classes\n",
    "\n",
    "Advantages of multiple inheritance:\n",
    "\n",
    "- it can inherit attributes from multiple sources\n",
    "- it can be reuse \n",
    "- it can combine the functionality of different classes\n",
    "\n"
   ]
  },
  {
   "cell_type": "markdown",
   "id": "cd345fd9",
   "metadata": {},
   "source": [
    "Q3. Explain the terms \"base class\" and \"derived class\" in the context of inheritance.\n",
    "\n",
    "Ans: A base class or parent class is the class from which other classes inherit\n",
    "\n",
    "it serves as the foundation for derived class\n",
    "\n",
    "it defines the commonly used features which can be shared by all derived clasess\n",
    "\n",
    "it has both methods and attributes\n",
    "\n",
    "Derived class:\n",
    "\n",
    "A derived class child class is a class that inherits attributes and behaviors from a base class\n",
    "\n",
    "it can derived attributes and method from parent class\n",
    "\n",
    "it can also have its own attributes and methods in addition\n",
    "\n",
    "it can also serve as parent class for other child class\n",
    "\n"
   ]
  },
  {
   "cell_type": "markdown",
   "id": "7143f802",
   "metadata": {},
   "source": [
    "Q4. What is the significance of the \"protected\" access modifier in inheritance? How does it differ from \"private\" and \"public\" modifiers?\n",
    "\n",
    "Ans: note access modifier control the visibility and accessibility of the class members\n",
    "\n",
    "Protected Access Modifier:\n",
    "\n",
    "Protected members are accessible within the class that defines them and any derived classes\n",
    "\n",
    "They are not accessible by other classes that are not part of the inheritance hierarchy\n",
    "\n",
    "Protected members allow derived classes to access and modify the inherited members\n",
    "\n",
    "Private Access Modifier:\n",
    "\n",
    "Private members are accessible only within the class that defines them\n",
    "\n",
    "They are not accessible by derived classes or other classes\n",
    "\n",
    "Private members are often used for internal implementation details that don't need to be exposed to external code\n",
    "\n",
    "Public Access Modifier:\n",
    "\n",
    "Public members are accessible from anywhere, including within the class, derived classes, and other classes outside the inheritance hierarchy\n",
    "\n",
    "Public members provide full visibility and accessibility to all code components\n",
    "\n",
    "They are commonly used for methods and attributes that need to be accessible and used by other classes or code components"
   ]
  },
  {
   "cell_type": "markdown",
   "id": "654d386b",
   "metadata": {},
   "source": [
    "Q5. What is the purpose of the \"super\" keyword in inheritance? Provide an example.\n",
    "\n",
    "Ans: The \"super\" keyword is used in inheritance to refer to the superclass (or base class) from within a subclass. \n",
    "\n",
    "It allows the subclass to access and invoke the superclass's methods, constructors, and attributes. \n",
    "\n",
    "The \"super\" keyword is particularly useful when the subclass overrides a method or constructor of the superclass but still wants to leverage the functionality provided by the superclass\n",
    "\n"
   ]
  },
  {
   "cell_type": "code",
   "execution_count": 6,
   "id": "f1291ebe",
   "metadata": {},
   "outputs": [],
   "source": [
    "#Exmple\n",
    "\n",
    "class Vehicle:\n",
    "    def __init__(self, brand):\n",
    "        self.brand = brand\n",
    "\n",
    "    def start(self):\n",
    "        print(\"Vehicle started.\")\n"
   ]
  },
  {
   "cell_type": "code",
   "execution_count": 11,
   "id": "aeba9d4e",
   "metadata": {},
   "outputs": [],
   "source": [
    "class Car(Vehicle):\n",
    "    def __init__(self, brand, number_of_doors):\n",
    "        super().__init__(brand)  # Calling the superclass constructor\n",
    "        self.number_of_doors = number_of_doors\n",
    "\n",
    "    def start(self):\n",
    "        super().start()  # Calling the superclass method\n",
    "        print(\"Car started.\")\n",
    "\n",
    "\n"
   ]
  },
  {
   "cell_type": "code",
   "execution_count": 15,
   "id": "6dcfb65d",
   "metadata": {},
   "outputs": [
    {
     "name": "stdout",
     "output_type": "stream",
     "text": [
      "Vehicle started.\n",
      "Car started.\n"
     ]
    }
   ],
   "source": [
    "car1 = Car(\"Toyota\", 4)\n",
    "car1.start()"
   ]
  },
  {
   "cell_type": "markdown",
   "id": "7e89ea45",
   "metadata": {},
   "source": [
    "Q6. Create a base class called \"Vehicle\" with attributes like \"make\", \"model\", and \"year\".\n",
    "\n",
    "Then, create a derived class called \"Car\" that inherits from \"Vehicle\" and adds an attribute called \"fuel_type\". Implement appropriate methods in both classes."
   ]
  },
  {
   "cell_type": "code",
   "execution_count": 29,
   "id": "0e90b91d",
   "metadata": {},
   "outputs": [],
   "source": [
    "#parent class\n",
    "\n",
    "class Vehicle:\n",
    "    def __init__(self, make, model, year):\n",
    "        self.make = make\n",
    "        self.model = model\n",
    "        self.year = year\n",
    "\n",
    "    def start(self):\n",
    "        print(\"The vehicle is starting.\")\n",
    "\n",
    "    def stop(self):\n",
    "        print(\"The vehicle is stopping.\")\n",
    "\n"
   ]
  },
  {
   "cell_type": "code",
   "execution_count": 32,
   "id": "2444067c",
   "metadata": {},
   "outputs": [],
   "source": [
    "#child class\n",
    "\n",
    "\n",
    "class Car(Vehicle):\n",
    "    def __init__(self, make, model, year, fuel_type):\n",
    "        super().__init__(make, model, year)\n",
    "        self.fuel_type = fuel_type\n",
    "\n",
    "    def start(self):\n",
    "        super().start()\n",
    "        print(\"The car's engine is running.\")"
   ]
  },
  {
   "cell_type": "code",
   "execution_count": 35,
   "id": "8b23e8a7",
   "metadata": {},
   "outputs": [
    {
     "name": "stdout",
     "output_type": "stream",
     "text": [
      "Make: Toyota\n",
      "Model: Corolla Altis\n",
      "Year: 2022\n",
      "Fuel Type: Petrol\n",
      "The vehicle is starting.\n",
      "The car's engine is running.\n",
      "The vehicle is stopping.\n"
     ]
    }
   ],
   "source": [
    "# Create an instance of the Car class\n",
    "my_car = Car(\"Toyota\", \"Corolla Altis\", 2022, \"Petrol\")\n",
    "\n",
    "# Accessing attributes\n",
    "print(f\"Make: {my_car.make}\")\n",
    "print(f\"Model: {my_car.model}\")\n",
    "print(f\"Year: {my_car.year}\")\n",
    "print(f\"Fuel Type: {my_car.fuel_type}\")\n",
    "\n",
    "# Calling methods\n",
    "my_car.start()\n",
    "my_car.stop()"
   ]
  },
  {
   "cell_type": "markdown",
   "id": "663c3c97",
   "metadata": {},
   "source": [
    "Q7. Create a base class called \"Employee\" with attributes like \"name\" and \"salary.\"\n",
    "Derive two classes, \"Manager\" and \"Developer,\" from \"Employee.\" Add an additional attribute called \"department\" for the \"Manager\" class and \"programming_language\" for the \"Developer\" class."
   ]
  },
  {
   "cell_type": "code",
   "execution_count": 40,
   "id": "2bf165c0",
   "metadata": {},
   "outputs": [],
   "source": [
    "#parent class-Employee\n",
    "class Employee:\n",
    "    def __init__(self, name, salary):\n",
    "        self.name = name\n",
    "        self.salary = salary\n",
    "\n",
    "    def display_info(self):\n",
    "        print(f\"Name: {self.name}\")\n",
    "        print(f\"Salary: {self.salary}\")"
   ]
  },
  {
   "cell_type": "code",
   "execution_count": 44,
   "id": "6381f6b1",
   "metadata": {},
   "outputs": [],
   "source": [
    "#child class-Manager\n",
    "class Manager(Employee):\n",
    "    def __init__(self, name, salary, department):\n",
    "        super().__init__(name, salary)\n",
    "        self.department = department\n",
    "\n",
    "    def display_info(self):\n",
    "        super().display_info()\n",
    "        print(f\"Department: {self.department}\")\n"
   ]
  },
  {
   "cell_type": "code",
   "execution_count": 45,
   "id": "fc7a136f",
   "metadata": {},
   "outputs": [],
   "source": [
    "#child class-Developer\n",
    "class Developer(Employee):\n",
    "    def __init__(self, name, salary, programming_language):\n",
    "        super().__init__(name, salary)\n",
    "        self.programming_language = programming_language\n",
    "\n",
    "    def display_info(self):\n",
    "        super().display_info()\n",
    "        print(f\"Programming Language: {self.programming_language}\")"
   ]
  },
  {
   "cell_type": "code",
   "execution_count": 51,
   "id": "d74224cb",
   "metadata": {},
   "outputs": [
    {
     "name": "stdout",
     "output_type": "stream",
     "text": [
      "Name: Shazid khan\n",
      "Salary: 13200\n",
      "Department: Data Science\n",
      "-----------------------------\n",
      "Name: Salman Khan\n",
      "Salary: 9200\n",
      "Programming Language: Python\n"
     ]
    }
   ],
   "source": [
    "# Create instances of Manager and Developer\n",
    "manager = Manager(\"Shazid khan\", 13200, \"Data Science\")\n",
    "developer = Developer(\"Salman Khan\", 9200, \"Python\")\n",
    "\n",
    "# Display information\n",
    "manager.display_info()\n",
    "print(\"-----------------------------\")\n",
    "developer.display_info()"
   ]
  },
  {
   "cell_type": "markdown",
   "id": "142dfaa7",
   "metadata": {},
   "source": [
    "Q8. Design a base class called \"Shape\" with attributes like \"colour\" and \"border_width.\"\n",
    "Create derived classes, \"Rectangle\" and \"Circle,\" that inherit from \"Shape\" and add specific attributes like \"length\" and \"width\" for the \"Rectangle\" class and \"radius\" for the \"Circle\" class."
   ]
  },
  {
   "cell_type": "code",
   "execution_count": 52,
   "id": "ecfd511a",
   "metadata": {},
   "outputs": [],
   "source": [
    "#paretn class-Shape\n",
    "class Shape:\n",
    "    def __init__(self, colour, border_width):\n",
    "        self.colour = colour\n",
    "        self.border_width = border_width\n",
    "\n",
    "    def display_info(self):\n",
    "        print(f\"Colour: {self.colour}\")\n",
    "        print(f\"Border Width: {self.border_width}\")"
   ]
  },
  {
   "cell_type": "code",
   "execution_count": 56,
   "id": "7411c399",
   "metadata": {},
   "outputs": [],
   "source": [
    "#child class\n",
    "class Rectangle(Shape):\n",
    "    def __init__(self, colour, border_width, length, width):\n",
    "        super().__init__(colour, border_width)\n",
    "        self.length = length\n",
    "        self.width = width\n",
    "\n",
    "    def display_info(self):\n",
    "        super().display_info()\n",
    "        print(f\"Length: {self.length}\")\n",
    "        print(f\"Width: {self.width}\")"
   ]
  },
  {
   "cell_type": "code",
   "execution_count": 61,
   "id": "338dd590",
   "metadata": {},
   "outputs": [],
   "source": [
    "#child clas\n",
    "\n",
    "class Circle(Shape):\n",
    "    def __init__(self, colour, border_width, radius):\n",
    "        super().__init__(colour, border_width)\n",
    "        self.radius = radius\n",
    "\n",
    "    def display_info(self):\n",
    "        super().display_info()\n",
    "        print(f\"Radius: {self.radius}\")"
   ]
  },
  {
   "cell_type": "code",
   "execution_count": 64,
   "id": "e17de95a",
   "metadata": {},
   "outputs": [
    {
     "name": "stdout",
     "output_type": "stream",
     "text": [
      "Colour: Red\n",
      "Border Width: 2\n",
      "Length: 10\n",
      "Width: 5\n",
      "-----------------------------\n",
      "Colour: Blue\n",
      "Border Width: 1\n",
      "Radius: 7\n"
     ]
    }
   ],
   "source": [
    "# Create instances of Rectangle and Circle\n",
    "rectangle = Rectangle(\"Red\", 2, 10, 5)\n",
    "circle = Circle(\"Blue\", 1, 7)\n",
    "\n",
    "# Display information\n",
    "rectangle.display_info()\n",
    "print(\"-----------------------------\")\n",
    "circle.display_info()"
   ]
  },
  {
   "cell_type": "markdown",
   "id": "7e6aa726",
   "metadata": {},
   "source": [
    "Q9. Create a base class called \"Device\" with attributes like \"brand\" and \"model.\" Derive two classes, \"Phone\" and \"Tablet,\" from \"Device.\" Add specific attributes like \"screen_size\" for the \"Phone\" class and \"battery_capacity\" for the \"Tablet\" class."
   ]
  },
  {
   "cell_type": "code",
   "execution_count": 90,
   "id": "fe03db1c",
   "metadata": {},
   "outputs": [
    {
     "name": "stdout",
     "output_type": "stream",
     "text": [
      "Brand: Apple\n",
      "Model: iPhone 14\n",
      "Screen Size: 6.1\n",
      "-----------------------------\n",
      "Brand: Samsung\n",
      "Model: Galaxy Tab S7\n",
      "Battery Capacity: 10,090mAh\n"
     ]
    }
   ],
   "source": [
    "#parent class\n",
    "class Device:\n",
    "    def __init__(self, brand, model):\n",
    "        self.brand = brand\n",
    "        self.model = model\n",
    "\n",
    "    def display_info(self):\n",
    "        print(f\"Brand: {self.brand}\")\n",
    "        print(f\"Model: {self.model}\")\n",
    "\n",
    "#child class\n",
    "class Phone(Device):\n",
    "    def __init__(self, brand, model, screen_size):\n",
    "        super().__init__(brand, model)\n",
    "        self.screen_size = screen_size\n",
    "\n",
    "    def display_info(self):\n",
    "        super().display_info()\n",
    "        print(f\"Screen Size: {self.screen_size}\")\n",
    "\n",
    "#child class\n",
    "class Tablet(Device):\n",
    "    def __init__(self, brand, model, battery_capacity):\n",
    "        super().__init__(brand, model)\n",
    "        self.battery_capacity = battery_capacity\n",
    "\n",
    "    def display_info(self):\n",
    "        super().display_info()\n",
    "        print(f\"Battery Capacity: {self.battery_capacity}\")\n",
    "\n",
    "\n",
    "# Create instances of Phone and Tablet\n",
    "phone = Phone(\"Apple\", \"iPhone 14\", 6.1)\n",
    "tablet = Tablet(\"Samsung\", \"Galaxy Tab S7\", \"10,090mAh\")\n",
    "\n",
    "# Display information\n",
    "phone.display_info()\n",
    "print(\"-----------------------------\")\n",
    "tablet.display_info()"
   ]
  },
  {
   "cell_type": "markdown",
   "id": "0f6c950d",
   "metadata": {},
   "source": [
    "Q10. Create a base class called \"BankAccount\" with attributes like \"account_number\" and \"balance.\" Derive two classes, \"SavingsAccount\" and \"CheckingAccount,\" from \"BankAccount.\" Add specific methods like \"calculate_interest\" for the SavingsAccount\" class and \"deduct_fees\" for the \"CheckingAccount\" class."
   ]
  },
  {
   "cell_type": "code",
   "execution_count": 102,
   "id": "2ac5b005",
   "metadata": {},
   "outputs": [
    {
     "name": "stdout",
     "output_type": "stream",
     "text": [
      "Account Number: 12345678900\n",
      "Balance: 600\n",
      "Account Type: Savings Account\n",
      "Interest is : 9000\n",
      "-----------------------------\n",
      "Account Number: 987678876678\n",
      "Balance: 500\n",
      "Account Type: Checking Account\n",
      "Fees Deducted is : 40\n"
     ]
    }
   ],
   "source": [
    "#paretn class:\n",
    "\n",
    "class BankAccount:\n",
    "    def __init__(self, account_number, balance):\n",
    "        self.account_number = account_number\n",
    "        self.balance = balance\n",
    "\n",
    "    def display_info(self):\n",
    "        print(f\"Account Number: {self.account_number}\")\n",
    "        print(f\"Balance: {self.balance}\")\n",
    "\n",
    "#child class\n",
    "class SavingsAccount(BankAccount):\n",
    "    def __init__(self, account_number, balance):\n",
    "        super().__init__(account_number, balance)\n",
    "\n",
    "    def calculate_interest(self, interest_rate):\n",
    "        interest = self.balance * interest_rate\n",
    "        self.balance += interest\n",
    "        print(f\"Interest is : {interest}\")\n",
    "\n",
    "    def display_info(self):\n",
    "        super().display_info()\n",
    "        print(\"Account Type: Savings Account\")\n",
    "\n",
    "#child classs\n",
    "class CheckingAccount(BankAccount):\n",
    "    def __init__(self, account_number, balance):\n",
    "        super().__init__(account_number, balance)\n",
    "\n",
    "    def deduct_fees(self, fee):\n",
    "        self.balance -= fee\n",
    "        print(f\"Fees Deducted is : {fee}\")\n",
    "\n",
    "    def display_info(self):\n",
    "        super().display_info()\n",
    "        print(\"Account Type: Checking Account\")\n",
    "\n",
    "\n",
    "# Create instances of SavingsAccount and CheckingAccount\n",
    "savings_account = SavingsAccount(\"12345678900\", 600)\n",
    "checking_account = CheckingAccount(\"987678876678\", 500)\n",
    "\n",
    "# Display information\n",
    "savings_account.display_info()\n",
    "savings_account.calculate_interest(15)\n",
    "print(\"-----------------------------\")\n",
    "checking_account.display_info()\n",
    "checking_account.deduct_fees(40)"
   ]
  },
  {
   "cell_type": "code",
   "execution_count": null,
   "id": "c8696ea3",
   "metadata": {},
   "outputs": [],
   "source": []
  },
  {
   "cell_type": "code",
   "execution_count": null,
   "id": "4e58c007",
   "metadata": {},
   "outputs": [],
   "source": []
  },
  {
   "cell_type": "code",
   "execution_count": null,
   "id": "2f11d4a9",
   "metadata": {},
   "outputs": [],
   "source": []
  }
 ],
 "metadata": {
  "kernelspec": {
   "display_name": "Python 3 (ipykernel)",
   "language": "python",
   "name": "python3"
  },
  "language_info": {
   "codemirror_mode": {
    "name": "ipython",
    "version": 3
   },
   "file_extension": ".py",
   "mimetype": "text/x-python",
   "name": "python",
   "nbconvert_exporter": "python",
   "pygments_lexer": "ipython3",
   "version": "3.10.9"
  }
 },
 "nbformat": 4,
 "nbformat_minor": 5
}
