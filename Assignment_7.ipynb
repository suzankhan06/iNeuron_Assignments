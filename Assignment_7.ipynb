{
 "cells": [
  {
   "cell_type": "markdown",
   "id": "2fb5b769",
   "metadata": {},
   "source": [
    "Q.1. Create two int type variables, apply addition, subtraction, division and multiplications\n",
    "and store the results in variables. Then print the data in the following format by calling the\n",
    "variables:\n",
    "\n",
    "First variable is __ & second variable is __.\n",
    "\n",
    "Addition: __ + __ = __\n",
    "\n",
    "Subtraction: __ - __ = __\n",
    "\n",
    "Multiplication: __ * __ = __\n",
    "\n",
    "Division: __ / __ = __"
   ]
  },
  {
   "cell_type": "code",
   "execution_count": 8,
   "id": "4689580a",
   "metadata": {},
   "outputs": [
    {
     "name": "stdout",
     "output_type": "stream",
     "text": [
      "First variable is 10 & second variable is 5\n",
      "Addition: 10 + 5 = 15\n",
      "Subtraction: 10 - 5 = 5\n",
      "Multiplication: 10 * 5 = 50\n",
      "Division: 10 / 5 = 2.0\n"
     ]
    }
   ],
   "source": [
    "# Create two integer variables\n",
    "first_variable = 10\n",
    "second_variable = 5\n",
    "\n",
    "# Perform arithmetic operations and store the results\n",
    "addition_result = first_variable + second_variable\n",
    "subtraction_result = first_variable - second_variable\n",
    "multiplication_result = first_variable * second_variable\n",
    "division_result = first_variable / second_variable\n",
    "\n",
    "# Print the results in the specified format\n",
    "print(\"First variable is\", first_variable, \"& second variable is\", second_variable)\n",
    "print(\"Addition:\", first_variable, \"+\", second_variable, \"=\", addition_result)\n",
    "print(\"Subtraction:\", first_variable, \"-\", second_variable, \"=\", subtraction_result)\n",
    "print(\"Multiplication:\", first_variable, \"*\", second_variable, \"=\", multiplication_result)\n",
    "print(\"Division:\", first_variable, \"/\", second_variable, \"=\", division_result)"
   ]
  },
  {
   "cell_type": "markdown",
   "id": "5968e310",
   "metadata": {},
   "source": [
    "Q.2. What is the difference between the following operators:\n",
    "\n",
    "(i) ‘/’ & ‘//’\n",
    "\n",
    "(ii) ‘**’ & ‘^’\n",
    "\n",
    "Ans: The '/' operator performs normal division for example, 5 / 2 would result in 2.5.\n",
    "\n",
    "The '//' operator, also known as floor division or integer division, performs division and rounds down the result to the nearest integer. It returns an integer result for example, 5 // 2 would result in 2.\n",
    "\n",
    "\n",
    "The '**' operator is used for exponentiation in Python. It raises the left operand to the power of the right operand for example, 2 ** 3 would result in 8.\n",
    "\n",
    "The '^' operator is used to performs a bitwise XOR operation on the binary representations of the operands. It is used for performing bitwise operations, not exponentiation."
   ]
  },
  {
   "cell_type": "markdown",
   "id": "e49a702f",
   "metadata": {},
   "source": [
    "Q.3. List the logical operators.\n",
    "\n",
    "Ans: \n",
    "\n",
    "and: The and operator returns True if both operands evaluate to True, otherwise it returns False.\n",
    "\n",
    "or: The or operator returns True if at least one of the operands evaluates to True, otherwise it returns False.\n",
    "\n",
    "not: The not operator negates the value of its operand. It returns True if the operand is False, and False if the operand is True."
   ]
  },
  {
   "cell_type": "code",
   "execution_count": 14,
   "id": "ba2f2595",
   "metadata": {},
   "outputs": [
    {
     "name": "stdout",
     "output_type": "stream",
     "text": [
      "No condition is true.\n",
      "The flag is False.\n"
     ]
    }
   ],
   "source": [
    "# For exmaple\n",
    "\n",
    "x = 5\n",
    "y = 10\n",
    "z = 3\n",
    "\n",
    "# Using logical operators in if statement\n",
    "if x > y and z > y:\n",
    "    print(\"Both conditions are true.\")\n",
    "elif x > y or z > y:\n",
    "    print(\"At least one condition is true.\")\n",
    "else:\n",
    "    print(\"No condition is true.\")\n",
    "\n",
    "# Using logical operators with the not operator\n",
    "flag = False\n",
    "if not flag:\n",
    "    print(\"The flag is False.\")"
   ]
  },
  {
   "cell_type": "markdown",
   "id": "500bb230",
   "metadata": {},
   "source": [
    "Q.4. Explain right shift operator and left shift operator with examples.\n",
    "\n",
    "Right Shift Operator (>>):\n",
    "The right shift operator (>>) shifts the bits of a number to the right by a specified number of positions. It effectively divides the number by 2 raised to the power of the specified shift value."
   ]
  },
  {
   "cell_type": "code",
   "execution_count": 19,
   "id": "395093c0",
   "metadata": {},
   "outputs": [
    {
     "name": "stdout",
     "output_type": "stream",
     "text": [
      "0b10\n"
     ]
    }
   ],
   "source": [
    "x = 10  # Binary: 1010\n",
    "y = x >> 2  # Shift right by 2 positions\n",
    "\n",
    "print(bin(y))  # Output: '0b10' (Binary: 10)"
   ]
  },
  {
   "cell_type": "markdown",
   "id": "667efa19",
   "metadata": {},
   "source": [
    "Left Shift Operator (<<):\n",
    "The left shift operator (<<) shifts the bits of a number to the left by a specified number of positions. It effectively multiplies the number by 2 raised to the power of the specified shift value."
   ]
  },
  {
   "cell_type": "code",
   "execution_count": 20,
   "id": "e569c6e6",
   "metadata": {},
   "outputs": [
    {
     "name": "stdout",
     "output_type": "stream",
     "text": [
      "0b10100\n"
     ]
    }
   ],
   "source": [
    "x = 5  # Binary: 101\n",
    "y = x << 2  # Shift left by 2 positions\n",
    "\n",
    "print(bin(y))  # Output: '0b10100' (Binary: 10100)"
   ]
  },
  {
   "cell_type": "markdown",
   "id": "664aa575",
   "metadata": {},
   "source": [
    "Q.5. Create a list containing int type data of length 15. Then write a code to check if 10 is\n",
    "present in the list or not."
   ]
  },
  {
   "cell_type": "code",
   "execution_count": 23,
   "id": "9442cab7",
   "metadata": {},
   "outputs": [
    {
     "name": "stdout",
     "output_type": "stream",
     "text": [
      "10 is present in the list.\n"
     ]
    }
   ],
   "source": [
    "# Create a list of integers\n",
    "my_list = [5, 2, 8, 10, 7, 3, 1, 9, 4, 6, 12, 15, 11, 13, 14]\n",
    "\n",
    "# Check if 10 is present in the list\n",
    "if 10 in my_list:\n",
    "    print(\"10 is present in the list.\")\n",
    "else:\n",
    "    print(\"10 is not present in the list.\")"
   ]
  },
  {
   "cell_type": "code",
   "execution_count": null,
   "id": "6926aff7",
   "metadata": {},
   "outputs": [],
   "source": []
  },
  {
   "cell_type": "code",
   "execution_count": null,
   "id": "f6b84dff",
   "metadata": {},
   "outputs": [],
   "source": []
  },
  {
   "cell_type": "code",
   "execution_count": null,
   "id": "8d83275c",
   "metadata": {},
   "outputs": [],
   "source": []
  },
  {
   "cell_type": "code",
   "execution_count": null,
   "id": "1aa99b8e",
   "metadata": {},
   "outputs": [],
   "source": []
  }
 ],
 "metadata": {
  "kernelspec": {
   "display_name": "Python 3 (ipykernel)",
   "language": "python",
   "name": "python3"
  },
  "language_info": {
   "codemirror_mode": {
    "name": "ipython",
    "version": 3
   },
   "file_extension": ".py",
   "mimetype": "text/x-python",
   "name": "python",
   "nbconvert_exporter": "python",
   "pygments_lexer": "ipython3",
   "version": "3.10.9"
  }
 },
 "nbformat": 4,
 "nbformat_minor": 5
}
