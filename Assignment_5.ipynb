{
 "cells": [
  {
   "cell_type": "markdown",
   "id": "bee3f46a",
   "metadata": {},
   "source": [
    "Q1. What does an empty dictionary&#39;s code look like?"
   ]
  },
  {
   "cell_type": "code",
   "execution_count": 6,
   "id": "856d2ad6",
   "metadata": {},
   "outputs": [
    {
     "data": {
      "text/plain": [
       "dict"
      ]
     },
     "execution_count": 6,
     "metadata": {},
     "output_type": "execute_result"
    }
   ],
   "source": [
    "dict = {}\n",
    "type(dict)\n"
   ]
  },
  {
   "cell_type": "markdown",
   "id": "ab6bbfe6",
   "metadata": {},
   "source": [
    "Q2. What is the value of a dictionary value with the key &#39;foo&#39; and the value 42?"
   ]
  },
  {
   "cell_type": "code",
   "execution_count": 7,
   "id": "47b91eac",
   "metadata": {},
   "outputs": [
    {
     "data": {
      "text/plain": [
       "{'foo': 42}"
      ]
     },
     "execution_count": 7,
     "metadata": {},
     "output_type": "execute_result"
    }
   ],
   "source": [
    "dict = {'foo':42}\n",
    "dict"
   ]
  },
  {
   "cell_type": "markdown",
   "id": "be0632f6",
   "metadata": {},
   "source": [
    "Q3. What is the most significant distinction between a dictionary and a list?\n",
    "\n",
    "Ans: in list, items are ordered whereas, in dictionary items are unodered"
   ]
  },
  {
   "cell_type": "markdown",
   "id": "bebfddb9",
   "metadata": {},
   "source": [
    "Q4. What happens if you try to access spam[&#39;foo&#39;] if spam is {&#39;bar&#39;: 100}?"
   ]
  },
  {
   "cell_type": "code",
   "execution_count": 9,
   "id": "5da5e71d",
   "metadata": {},
   "outputs": [
    {
     "ename": "KeyError",
     "evalue": "'foo'",
     "output_type": "error",
     "traceback": [
      "\u001b[1;31m---------------------------------------------------------------------------\u001b[0m",
      "\u001b[1;31mKeyError\u001b[0m                                  Traceback (most recent call last)",
      "Cell \u001b[1;32mIn[9], line 2\u001b[0m\n\u001b[0;32m      1\u001b[0m spam \u001b[38;5;241m=\u001b[39m {\u001b[38;5;124m'\u001b[39m\u001b[38;5;124mbar\u001b[39m\u001b[38;5;124m'\u001b[39m:\u001b[38;5;241m100\u001b[39m}\n\u001b[1;32m----> 2\u001b[0m \u001b[43mspam\u001b[49m\u001b[43m[\u001b[49m\u001b[38;5;124;43m'\u001b[39;49m\u001b[38;5;124;43mfoo\u001b[39;49m\u001b[38;5;124;43m'\u001b[39;49m\u001b[43m]\u001b[49m\n",
      "\u001b[1;31mKeyError\u001b[0m: 'foo'"
     ]
    }
   ],
   "source": [
    "spam = {'bar':100}\n",
    "spam['foo']\n",
    "# this will give us key error"
   ]
  },
  {
   "cell_type": "markdown",
   "id": "e0fa3fef",
   "metadata": {},
   "source": [
    "Q5. If a dictionary is stored in spam, what is the difference between the expressions &#39;cat&#39; in spam and &#39;cat&#39; in spam.keys()?"
   ]
  },
  {
   "cell_type": "code",
   "execution_count": 10,
   "id": "ea596fbe",
   "metadata": {},
   "outputs": [
    {
     "data": {
      "text/plain": [
       "True"
      ]
     },
     "execution_count": 10,
     "metadata": {},
     "output_type": "execute_result"
    }
   ],
   "source": [
    "spam ={'cat':100}\n",
    "'cat' in spam"
   ]
  },
  {
   "cell_type": "code",
   "execution_count": 13,
   "id": "494a755a",
   "metadata": {},
   "outputs": [
    {
     "data": {
      "text/plain": [
       "True"
      ]
     },
     "execution_count": 13,
     "metadata": {},
     "output_type": "execute_result"
    }
   ],
   "source": [
    "'cat' in spam.keys()\n",
    "#There is no differnce, both check if 'cat' is key of the dictionary and if its a key it will response to True or else false\n",
    "   "
   ]
  },
  {
   "cell_type": "markdown",
   "id": "eeb338e2",
   "metadata": {},
   "source": [
    "Q6. If a dictionary is stored in spam, what is the difference between the expressions &#39;cat&#39; in spam and\n",
    "&#39;cat&#39; in spam.values()?"
   ]
  },
  {
   "cell_type": "code",
   "execution_count": 12,
   "id": "63041beb",
   "metadata": {},
   "outputs": [
    {
     "data": {
      "text/plain": [
       "True"
      ]
     },
     "execution_count": 12,
     "metadata": {},
     "output_type": "execute_result"
    }
   ],
   "source": [
    "spam ={'cat':100}\n",
    "'cat' in spam"
   ]
  },
  {
   "cell_type": "code",
   "execution_count": 14,
   "id": "2d3c58d0",
   "metadata": {},
   "outputs": [
    {
     "data": {
      "text/plain": [
       "False"
      ]
     },
     "execution_count": 14,
     "metadata": {},
     "output_type": "execute_result"
    }
   ],
   "source": [
    "spam ={'cat':100}\n",
    "'cat' in spam.values()\n",
    "\n",
    "#'cat' in spam checks whether there is a 'cat' key in the dictionary\n",
    "#'cat' in spam.values() checks whether there is a value 'cat' for one of the keys in spam.\n",
    "     "
   ]
  },
  {
   "cell_type": "markdown",
   "id": "70a25f59",
   "metadata": {},
   "source": [
    "Q7. What is a shortcut for the following code?\n",
    "\n",
    "if &#39;color&#39; not in spam:\n",
    "\n",
    "\n",
    "spam[&#39;color&#39;] = &#39;black&#39;"
   ]
  },
  {
   "cell_type": "code",
   "execution_count": 15,
   "id": "d76ad6c3",
   "metadata": {},
   "outputs": [
    {
     "data": {
      "text/plain": [
       "{'cat': 100, 'color': 'black'}"
      ]
     },
     "execution_count": 15,
     "metadata": {},
     "output_type": "execute_result"
    }
   ],
   "source": [
    "spam ={'cat':100}\n",
    "spam.setdefault('color','black')\n",
    "spam\n"
   ]
  },
  {
   "cell_type": "code",
   "execution_count": 16,
   "id": "aefba08d",
   "metadata": {},
   "outputs": [
    {
     "data": {
      "text/plain": [
       "'black'"
      ]
     },
     "execution_count": 16,
     "metadata": {},
     "output_type": "execute_result"
    }
   ],
   "source": [
    "spam['color']"
   ]
  },
  {
   "cell_type": "markdown",
   "id": "263206f2",
   "metadata": {},
   "source": [
    "Q8. How do you &quot;pretty print&quot; dictionary values using which module and function?"
   ]
  },
  {
   "cell_type": "code",
   "execution_count": 19,
   "id": "6a1d992c",
   "metadata": {},
   "outputs": [],
   "source": [
    "import pprint\n",
    "\n",
    "dct1 = [{'Name': 'Shazid', 'Age': '32', 'Country': 'KSA'},\n",
    "        {'Name': 'Salman', 'Age': '30', 'Country': 'India'},\n",
    "        {'Name': 'Sandos', 'Age': '27', 'Country': 'Australia'},\n",
    "        {'Name': 'Zainab', 'Age': '5', 'Country': 'Bahrain'}\n",
    "        ]"
   ]
  },
  {
   "cell_type": "code",
   "execution_count": 20,
   "id": "c95d072d",
   "metadata": {},
   "outputs": [
    {
     "name": "stdout",
     "output_type": "stream",
     "text": [
      "[{'Age': '32', 'Country': 'KSA', 'Name': 'Shazid'},\n",
      " {'Age': '30', 'Country': 'India', 'Name': 'Salman'},\n",
      " {'Age': '27', 'Country': 'Australia', 'Name': 'Sandos'},\n",
      " {'Age': '5', 'Country': 'Bahrain', 'Name': 'Zainab'}]\n"
     ]
    }
   ],
   "source": [
    "pprint.pprint(dct1) #print with pprint()"
   ]
  },
  {
   "cell_type": "code",
   "execution_count": 24,
   "id": "b31a98d8",
   "metadata": {},
   "outputs": [
    {
     "name": "stdout",
     "output_type": "stream",
     "text": [
      "[{'Name': 'Shazid', 'Age': '32', 'Country': 'KSA'}, {'Name': 'Salman', 'Age': '30', 'Country': 'India'}, {'Name': 'Sandos', 'Age': '27', 'Country': 'Australia'}, {'Name': 'Zainab', 'Age': '5', 'Country': 'Bahrain'}]\n"
     ]
    }
   ],
   "source": [
    "# now lets print()\n",
    "\n",
    "print(dct1)"
   ]
  },
  {
   "cell_type": "code",
   "execution_count": null,
   "id": "9fa8cab1",
   "metadata": {},
   "outputs": [],
   "source": []
  },
  {
   "cell_type": "code",
   "execution_count": null,
   "id": "37a8355e",
   "metadata": {},
   "outputs": [],
   "source": []
  },
  {
   "cell_type": "code",
   "execution_count": null,
   "id": "80f7f1b0",
   "metadata": {},
   "outputs": [],
   "source": []
  },
  {
   "cell_type": "code",
   "execution_count": null,
   "id": "2d7baab5",
   "metadata": {},
   "outputs": [],
   "source": []
  }
 ],
 "metadata": {
  "kernelspec": {
   "display_name": "Python 3 (ipykernel)",
   "language": "python",
   "name": "python3"
  },
  "language_info": {
   "codemirror_mode": {
    "name": "ipython",
    "version": 3
   },
   "file_extension": ".py",
   "mimetype": "text/x-python",
   "name": "python",
   "nbconvert_exporter": "python",
   "pygments_lexer": "ipython3",
   "version": "3.10.9"
  }
 },
 "nbformat": 4,
 "nbformat_minor": 5
}
