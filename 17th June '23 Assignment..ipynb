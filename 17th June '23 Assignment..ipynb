{
 "cells": [
  {
   "cell_type": "markdown",
   "id": "64933fbd",
   "metadata": {},
   "source": [
    "Q1. What is the role of try and exception block?\n",
    "\n",
    "\n",
    "Ans: The role of the try and except blocks in Python is to handle exceptions, which are errors that occur during the execution of a program.\n",
    "\n",
    "The try block is used to enclose the code that might raise an exception.\n",
    "\n",
    "The except block specifies the type of exception it can handle.\n",
    "\n"
   ]
  },
  {
   "cell_type": "code",
   "execution_count": 5,
   "id": "a12e13e0",
   "metadata": {},
   "outputs": [
    {
     "name": "stdout",
     "output_type": "stream",
     "text": [
      "Error: Division by zero\n"
     ]
    }
   ],
   "source": [
    "try:\n",
    "    num1 = 20\n",
    "    num2 = 0\n",
    "    result = num1 / num2\n",
    "    print(result)\n",
    "except ZeroDivisionError:\n",
    "    print(\"Error: Division by zero\")"
   ]
  },
  {
   "cell_type": "markdown",
   "id": "ae2b0fa5",
   "metadata": {},
   "source": [
    "Q2. What is the syntax for a basic try-except block?\n",
    "\n"
   ]
  },
  {
   "cell_type": "code",
   "execution_count": 7,
   "id": "76153a4f",
   "metadata": {},
   "outputs": [
    {
     "ename": "IndentationError",
     "evalue": "expected an indented block after 'try' statement on line 1 (1038912648.py, line 4)",
     "output_type": "error",
     "traceback": [
      "\u001b[1;36m  Cell \u001b[1;32mIn[7], line 4\u001b[1;36m\u001b[0m\n\u001b[1;33m    except ExceptionType:\u001b[0m\n\u001b[1;37m    ^\u001b[0m\n\u001b[1;31mIndentationError\u001b[0m\u001b[1;31m:\u001b[0m expected an indented block after 'try' statement on line 1\n"
     ]
    }
   ],
   "source": [
    "try:\n",
    "    # Code that might raise an exception\n",
    "    # ...\n",
    "except ExceptionType:\n",
    "    # Code to handle the exception\n",
    "    # ..."
   ]
  },
  {
   "cell_type": "markdown",
   "id": "f7f6043c",
   "metadata": {},
   "source": [
    "Q3. What happens if an exception occurs inside a try block and there is no matching except block?\n",
    "\n",
    "Ans: the exception will propagate up the call stack until it is caught by an outer try-except block or, if not caught, it will terminate the program with an error."
   ]
  },
  {
   "cell_type": "code",
   "execution_count": 8,
   "id": "a07fd5da",
   "metadata": {},
   "outputs": [
    {
     "ename": "ZeroDivisionError",
     "evalue": "division by zero",
     "output_type": "error",
     "traceback": [
      "\u001b[1;31m---------------------------------------------------------------------------\u001b[0m",
      "\u001b[1;31mZeroDivisionError\u001b[0m                         Traceback (most recent call last)",
      "Cell \u001b[1;32mIn[8], line 6\u001b[0m\n\u001b[0;32m      4\u001b[0m     num1 \u001b[38;5;241m=\u001b[39m \u001b[38;5;241m10\u001b[39m\n\u001b[0;32m      5\u001b[0m     num2 \u001b[38;5;241m=\u001b[39m \u001b[38;5;241m0\u001b[39m\n\u001b[1;32m----> 6\u001b[0m     result \u001b[38;5;241m=\u001b[39m \u001b[43mnum1\u001b[49m\u001b[43m \u001b[49m\u001b[38;5;241;43m/\u001b[39;49m\u001b[43m \u001b[49m\u001b[43mnum2\u001b[49m\n\u001b[0;32m      7\u001b[0m     \u001b[38;5;28mprint\u001b[39m(result)\n\u001b[0;32m      8\u001b[0m \u001b[38;5;28;01mexcept\u001b[39;00m \u001b[38;5;167;01mValueError\u001b[39;00m:\n",
      "\u001b[1;31mZeroDivisionError\u001b[0m: division by zero"
     ]
    }
   ],
   "source": [
    "#exmaple\n",
    "\n",
    "try:\n",
    "    num1 = 10\n",
    "    num2 = 0\n",
    "    result = num1 / num2\n",
    "    print(result)\n",
    "except ValueError:\n",
    "    print(\"This except block will not catch the ZeroDivisionError\")"
   ]
  },
  {
   "cell_type": "markdown",
   "id": "2f5ddd32",
   "metadata": {},
   "source": [
    "Q4. What is the difference between using a bare except block and specifying a specific exception type?\n",
    "\n",
    "Ans: A bare except block is written as except: without specifying any exception type\n",
    "\n",
    "it can handle all types of exception including both built-in and custom exceptions\n",
    "\n",
    "it makes harder to diagnose\n",
    "\n",
    "it is more difficult to debug and understand the flow of the prgoram\n",
    "\n",
    "\n",
    "A specific exception type, such as except ValueError: or except FileNotFoundError:, occurs you can catch and handle only the specified type of exception\n",
    "\n",
    "it also allows more precise and targeted handling\n",
    "\n",
    "it shows you different types of exceptions and how to handle them\n",
    "\n"
   ]
  },
  {
   "cell_type": "markdown",
   "id": "498f700c",
   "metadata": {},
   "source": [
    "Q5. Can you have nested try-except blocks in Python? If yes, then give an example.\n",
    "\n",
    "Ans: Yes,we can have nested try-except blocks in python. it means u can have try block inside another try block"
   ]
  },
  {
   "cell_type": "code",
   "execution_count": 9,
   "id": "a97182d3",
   "metadata": {},
   "outputs": [
    {
     "name": "stdout",
     "output_type": "stream",
     "text": [
      "Error: Division by zero\n"
     ]
    }
   ],
   "source": [
    "#for exmple\n",
    "\n",
    "try:\n",
    "    # Outer try block\n",
    "    num1 = 10\n",
    "    num2 = 0\n",
    "    try:\n",
    "        # Inner try block\n",
    "        result = num1 / num2\n",
    "        print(\"Result:\", result)\n",
    "    except ZeroDivisionError:\n",
    "        print(\"Error: Division by zero\")\n",
    "except:\n",
    "    print(\"An error occurred\")"
   ]
  },
  {
   "cell_type": "markdown",
   "id": "da3c5624",
   "metadata": {},
   "source": [
    "Q6. Can we use multiple exception blocks, if yes then give an example.\n",
    "\n",
    "Ans: Yes, we can use multiple exception blocks whihc allows us to handle different types ofexceptions and itgives specific error handling for each"
   ]
  },
  {
   "cell_type": "code",
   "execution_count": 10,
   "id": "e81e5dfb",
   "metadata": {},
   "outputs": [
    {
     "name": "stdout",
     "output_type": "stream",
     "text": [
      "Error: Division by zero\n"
     ]
    }
   ],
   "source": [
    "# for exmpls\n",
    "\n",
    "try:\n",
    "    num1 = 10\n",
    "    num2 = 0\n",
    "    result = num1 / num2\n",
    "    print(result)\n",
    "except ZeroDivisionError:\n",
    "    print(\"Error: Division by zero\")\n",
    "except ValueError:\n",
    "    print(\"Error: Invalid value\")"
   ]
  },
  {
   "cell_type": "markdown",
   "id": "f924f832",
   "metadata": {},
   "source": [
    "Q7. Write the reason due to which following errors are raised:\n",
    "\n",
    "a. EOFError\n",
    "\n",
    "b. FloatingPointError\n",
    "\n",
    "c. IndexError\n",
    "\n",
    "d. MemoryError\n",
    "\n",
    "e. OverflowError\n",
    "\n",
    "f. TabError\n",
    "\n",
    "g. ValueError\n",
    "\n",
    "Ans: EOFError, this error is accured when input func is sued an end-of-file condition. usually when we try to read the input and there is no more input \n",
    "\n",
    "FloatingPointError, this error accurs when a floating point operation fails to execute. usually when we perform opeartions like square on floating number \n",
    "\n",
    "IndexError, thi error occurs when element of sequence uses invalid index. usually when index is out of range\n",
    "\n",
    "MemoryError, this is memory error when interpretor runs out of memory. usually on system insufficient memory\n",
    "\n",
    "OverflowError, this error occurs when we exceeeds the maxlimit of numeric type. usually when the value is too large to be represented\n",
    "\n",
    "TabError, this error occurs when incorrect indentation of tabs is beeen used . usually when we mix tabs and spaces\n",
    "\n",
    "ValueError, this error occurs when we give correct arguments but the value of argument is incorrect. usually when we call the argument with not an expected criteria\n"
   ]
  },
  {
   "cell_type": "markdown",
   "id": "29e103d9",
   "metadata": {},
   "source": [
    "Q8. Write code for the following given scenario and add try-exception block to it.\n",
    "\n",
    "a. Program to divide two numbers\n",
    "\n",
    "b. Program to convert a string to an integer\n",
    "\n",
    "c. Program to access an element in a list\n",
    "\n",
    "d. Program to handle a specific exception\n",
    "\n",
    "e. Program to handle any exception"
   ]
  },
  {
   "cell_type": "code",
   "execution_count": 12,
   "id": "ff2fed5d",
   "metadata": {},
   "outputs": [
    {
     "name": "stdout",
     "output_type": "stream",
     "text": [
      "Enter the numerator: 10\n",
      "Enter the denominator: 0\n",
      "Error: Division by zero\n"
     ]
    }
   ],
   "source": [
    "# Program to divide two numbers\n",
    "\n",
    "try:\n",
    "    num1 = float(input(\"Enter the numerator: \"))\n",
    "    num2 = float(input(\"Enter the denominator: \"))\n",
    "    result = num1 / num2\n",
    "    print(\"Result:\", result)\n",
    "except ZeroDivisionError:\n",
    "    print(\"Error: Division by zero\")\n"
   ]
  },
  {
   "cell_type": "code",
   "execution_count": 16,
   "id": "a7c660e2",
   "metadata": {},
   "outputs": [
    {
     "name": "stdout",
     "output_type": "stream",
     "text": [
      "Enter a number: sa\n",
      "Error: Invalid number entered\n"
     ]
    }
   ],
   "source": [
    "# Program to convert a string to an integer\n",
    "\n",
    "try:\n",
    "    num_str = input(\"Enter a number: \")\n",
    "    num = int(num_str)\n",
    "    print(\"Number:\", num)\n",
    "except ValueError:\n",
    "    print(\"Error: Invalid number entered\")"
   ]
  },
  {
   "cell_type": "code",
   "execution_count": 19,
   "id": "390d9809",
   "metadata": {},
   "outputs": [
    {
     "name": "stdout",
     "output_type": "stream",
     "text": [
      "Enter an index: 6\n",
      "Error: Index out of range\n"
     ]
    }
   ],
   "source": [
    "# Program to access an element in a list\n",
    "\n",
    "try:\n",
    "    my_list = [1, 2, 3]\n",
    "    index = int(input(\"Enter an index: \"))\n",
    "    element = my_list[index]\n",
    "    print(\"Element at index\", index, \":\", element)\n",
    "except IndexError:\n",
    "    print(\"Error: Index out of range\")"
   ]
  },
  {
   "cell_type": "code",
   "execution_count": null,
   "id": "9baa3044",
   "metadata": {},
   "outputs": [],
   "source": [
    "#  Program to handle a specific exception\n",
    "\n",
    "try:\n",
    "    # Code that may raise the specific exception\n",
    "except SpecificExceptionType:\n",
    "    # Handling code for the specific exception"
   ]
  },
  {
   "cell_type": "code",
   "execution_count": 20,
   "id": "f300a4d8",
   "metadata": {},
   "outputs": [
    {
     "name": "stdout",
     "output_type": "stream",
     "text": [
      "Enter the file path: sa\n",
      "Error: File not found\n"
     ]
    }
   ],
   "source": [
    "try:\n",
    "    file_path = input(\"Enter the file path: \")\n",
    "    with open(file_path, 'r') as file:\n",
    "        # Perform operations on the file\n",
    "        print(\"File contents:\", file.read())\n",
    "except FileNotFoundError:\n",
    "    print(\"Error: File not found\")"
   ]
  },
  {
   "cell_type": "code",
   "execution_count": null,
   "id": "d7259ef5",
   "metadata": {},
   "outputs": [],
   "source": [
    "# Program to handle any exception\n",
    "\n",
    "try:\n",
    "    # Code that may raise an exception\n",
    "except Exception as e:\n",
    "    # Handling code for any exception\n",
    "    print(\"An exception occurred:\", str(e))"
   ]
  },
  {
   "cell_type": "code",
   "execution_count": 52,
   "id": "1c847a13",
   "metadata": {},
   "outputs": [
    {
     "name": "stdout",
     "output_type": "stream",
     "text": [
      "Enter the dividend: \n",
      "An exception occurred: invalid literal for int() with base 10: ''\n"
     ]
    }
   ],
   "source": [
    "try:\n",
    "    dividend = int(input(\"Enter the dividend: \"))\n",
    "    divisor = int(input(\"Enter the divisor: \"))\n",
    "    result = dividend / divisor\n",
    "    print(\"Result:\", result)\n",
    "except Exception as e:\n",
    "    print(\"An exception occurred:\", str(e))"
   ]
  },
  {
   "cell_type": "code",
   "execution_count": null,
   "id": "f65718de",
   "metadata": {},
   "outputs": [],
   "source": []
  },
  {
   "cell_type": "code",
   "execution_count": null,
   "id": "8e2d63ed",
   "metadata": {},
   "outputs": [],
   "source": []
  }
 ],
 "metadata": {
  "kernelspec": {
   "display_name": "Python 3 (ipykernel)",
   "language": "python",
   "name": "python3"
  },
  "language_info": {
   "codemirror_mode": {
    "name": "ipython",
    "version": 3
   },
   "file_extension": ".py",
   "mimetype": "text/x-python",
   "name": "python",
   "nbconvert_exporter": "python",
   "pygments_lexer": "ipython3",
   "version": "3.10.9"
  }
 },
 "nbformat": 4,
 "nbformat_minor": 5
}
